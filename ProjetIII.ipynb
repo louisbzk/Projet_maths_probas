{
 "cells": [
  {
   "cell_type": "markdown",
   "metadata": {},
   "source": [
    "# Projet numérique III : câble sous-marin"
   ]
  },
  {
   "cell_type": "markdown",
   "metadata": {},
   "source": [
    "#### Louis Blazejczak, Emmanuel Gardin"
   ]
  },
  {
   "cell_type": "markdown",
   "metadata": {},
   "source": [
    "## Questions théoriques"
   ]
  },
  {
   "cell_type": "markdown",
   "metadata": {},
   "source": [
    "#### 1.\n",
    "La loi forte des grands nombres nous autorise à estimer l'espérance conditionnelle par la moyenne empirique de simulations conditionnelles. \n",
    "\n",
    "#### 2.\n",
    "\n",
    "On considère le vecteur gaussien $Z_{1} = (Z(x_{j1}), Z(x_{j2}), ..., Z(x_{jn}))$ et le vecteur $Z_{2}$ des composantes de $Z$ qui ne sont pas connues. On réordonne $Z$ de manière à ce que les termes de $Z1$ soient les n derniers termes de Z.\n",
    "On note $C$ la matrice de covariance définie positive de $Z$.\n",
    "$C$ peut se décomposer en blocs :\n",
    "\\begin{align}\n",
    "C  = \n",
    "\\begin{pmatrix} \n",
    "C_{Z_{2}} & C_{Z_{2},Z_{1}} \\\\ C_{Z_{1},Z_{2}} & C_{Z_{1}}\n",
    "\\end{pmatrix}\n",
    "\\end{align}\n",
    "\n",
    "La loi conditionnelle du vecteur des composantes de  $Z$ correspondant aux points de discrétisation sans observation connaissant les valeurs prises par les composantes aux sites d'observation s'écrit alors :\n",
    "\n",
    "\n",
    "$f_{Z_{2}|Z_{1} = z_{1}}(z_{2}) = \\frac{1}{(2 \\pi)^{n/2} \\sqrt{det(CS_{Z_{2}})}}exp\\left(- \\frac{1}{2}\\left(z_{2}- \\Psi(z_1)\\right)^{t}CS_{Z_{2}}^{-1}\\left(z_{2}- \\Psi(z_1)\\right)\\right)$\n",
    "\n",
    "où $CS_{Z_{2}}$ est le complément de Schur du bloc $C_{Z_{2}}$ : $CS_{Z_{2}} = C_{Z_{2}} - C_{Z_{2},Z_{1}}C_{Z_{1}}^{-1}C_{Z_{1},Z_{2}}$ et $\\Psi$ est l'espérance conditionnelle du vecteur des sites sans observation $Z_{2}$ sachant $Z_{1}$\n",
    "\n",
    "#### 3.\n",
    "\n",
    "Soit $Y = (Y_{1}, ..., Y_{p})$ un vecteur de composantes gaussiennes indépendantes, toutes d'espérance nulle et de variance 1. $Z = m + RY$ où $R$ est une matrice $p \\times p$ et $m$ est un vecteur de taille $p$.\n",
    "Alors $Z$ est gaussien, comme combinaison linéaire de variables gaussiennes, $E(Z) = E(m + RY) = m$ et $V(Z) = E((RY)^{2}) = RI_{p}R^{T} = RR^{T}$. On note $C = RR^{t}$.\n",
    "\n",
    "La loi $f_{Z}$ de $Z$ est alors :\n",
    "\n",
    "\\begin{equation}\n",
    "f_{Z}(z) = \\frac{1}{(2 \\pi)^{p/2} \\sqrt{det(C)}}exp(- \\frac{1}{2}(z-m)^{t}C^{-1}(x-m))\n",
    "\\end{equation}\n",
    "\n",
    "#### 4.\n",
    "\n",
    "On souhaite simuler un vecteur gaussien $Z = (Z(x_{0}), ..., Z(x_{p}))$ à valeurs dans ${\\rm I\\!R}^p$, d'espérance $m$ et de matrice de covariance $C$ définie positive données. D'après la question précédente, on peut simuler un vecteur gaussien quelconque à partir d'un vecteur gaussien $Y$ de composantes indépendantes, d'espérances nulles et de variance 1 si on peut trouver une matrice $R$ telle que $C = R \\times R^{T}$, car dans ce cas $Z$ a la même loi que $m + R \\times Y$. \n",
    "\n",
    "Or, $C$ étant symétrique définie positive, il existe une matrice $R$ vérifiant cela (en effet, le théorème spectral permet de diagonaliser $C = P \\Delta P^{T}$ en une matrice diagonale $\\Delta$ à coefficients diagonaux strictement positifs, on pose alors $R = P \\times \\sqrt{\\Delta}$ où $\\sqrt{\\Delta}$ est la matrice diagonale dont les coefficients sont les racines carrées des coefficients de $\\Delta$). Il est donc possible de simuler $Z$ à partir de la simulation de $Y$.\n",
    "\n",
    "L'algorithme de Cholesky permet de trouver une telle matrice $R$ qui est de plus triangulaire inférieure et qu'on appelle alors $L$ (pour Lower triangular matrix). Cet algorithme a l'avantage de ne pas avoir à connaître les valeurs propres de $C$.\n",
    "\n",
    "### Algorithme de Cholesky :\n",
    "\n",
    "Il s'agit d'un algorithme récursif qui débute avec $i = 1$ et $C^{(1)} = C$\n",
    "\n",
    "A l'étape $i$, la matrice $C^{(i)}$ est de la forme suivante :\n",
    "$C^{(i)}=\n",
    "\\begin{pmatrix}\n",
    "\\mathbf{I}_{i-1} & 0              & 0 \\\\\n",
    "0                & a_{i,i}        & \\mathbf{b}_{i}^{T} \\\\\n",
    "0                & \\mathbf{b}_{i} & \\mathbf{B}^{(i)}\n",
    "\\end{pmatrix},\n",
    "$\n",
    "où $I_{i-1}$ représente la matrice identité de taille $i - 1$.\n",
    "\n",
    "La matrice $L_{i}$ est définie par :\n",
    "\n",
    "$L_{i}=\n",
    "\\begin{pmatrix}\n",
    "I_{i-1} & 0                                  & 0 \\\\\n",
    "0                & \\sqrt{a_{i,i}}           & 0 \\\\\n",
    "0                & \\frac{1}{\\sqrt{a_{i,i}}} \\mathbf{b}_{i} & \\mathbf{I}_{n-i}\n",
    "\\end{pmatrix},\n",
    "$\n",
    "\n",
    "\n",
    "donc $C^{(i)}$ s'écrit : \n",
    "\n",
    "\n",
    "$C^{(i)} = L_{i} C^{(i+1)} L_{i}^{T}$\n",
    "\n",
    "\n",
    "où\n",
    "\n",
    "\n",
    "$C^{(i+1)}=\n",
    "\\begin{pmatrix}\n",
    "\\mathbf{I}_{i-1} & 0 & 0 \\\\\n",
    "0                & 1 & 0 \\\\\n",
    "0                & 0 & \\mathbf{B}^{(i)} - \\frac{1}{a_{i,i}} \\mathbf{b}_{i} \\mathbf{b}_{i}^{T}\n",
    "\\end{pmatrix}.$\n",
    "\n",
    "\n",
    "Après $p$ pas, nous obtenons $C^{p+1} = I_{p}$. La matrice $L$ cherchée est donc :\n",
    "\n",
    "\\begin{equation}\n",
    "L = L_{1}  L_{2}  ...  L_{p}\n",
    "\\end{equation}\n"
   ]
  },
  {
   "cell_type": "markdown",
   "metadata": {},
   "source": [
    "## Implémentation"
   ]
  },
  {
   "cell_type": "code",
   "execution_count": 1,
   "metadata": {},
   "outputs": [],
   "source": [
    "# Chargement des dépendances\n",
    "\n",
    "import numpy as np\n",
    "import math\n",
    "import matplotlib.pyplot as plt\n",
    "\n",
    "# Discrétisation\n",
    "\n",
    "A = 0\n",
    "B = 500\n",
    "N = 101\n",
    "Delta = (B-A)/(N-1)\n",
    "discretization_indexes = np.arange(N)\n",
    "discretization = discretization_indexes*Delta\n",
    "\n",
    "#Paramètres du modèle\n",
    "\n",
    "mu = -5\n",
    "a = 50\n",
    "sigma2 = 12\n",
    "\n",
    "# Données\n",
    "\n",
    "observation_indexes = [0, 20, 40, 60, 80, 100]\n",
    "depth = np.array([0, -4, -12.8, -1, -6.5, 0])\n",
    "\n",
    "# Indices des composantes correspondant aux observations et aux composantes non observées\n",
    "\n",
    "unknown_indexes = list(set(discretization_indexes)-set(observation_indexes))"
   ]
  },
  {
   "cell_type": "code",
   "execution_count": 2,
   "metadata": {},
   "outputs": [],
   "source": [
    "#1\n",
    "def cov(distance, a, sigma2):\n",
    "    covariance = np.zeros((101, 101))\n",
    "    for i in range(0, len(covariance)):\n",
    "        for j in range(0, len(covariance[0])):\n",
    "            covariance[i][j] = sigma2*math.exp(-abs(distance[i][j])/a)\n",
    "    return covariance"
   ]
  },
  {
   "cell_type": "code",
   "execution_count": 3,
   "metadata": {},
   "outputs": [],
   "source": [
    "#2\n",
    "distance = np.zeros((101, 101))\n",
    "for i in range(0, 101):\n",
    "    for j in range(0, 101):\n",
    "        distance[i][j] = abs((i-j)*Delta)"
   ]
  },
  {
   "cell_type": "code",
   "execution_count": 4,
   "metadata": {},
   "outputs": [
    {
     "name": "stdout",
     "output_type": "stream",
     "text": [
      "[[1.20000000e+01 1.08580490e+01 9.82476904e+00 ... 6.65419193e-04\n",
      "  6.02096185e-04 5.44799157e-04]\n",
      " [1.08580490e+01 1.20000000e+01 1.08580490e+01 ... 7.35401941e-04\n",
      "  6.65419193e-04 6.02096185e-04]\n",
      " [9.82476904e+00 1.08580490e+01 1.20000000e+01 ... 8.12744838e-04\n",
      "  7.35401941e-04 6.65419193e-04]\n",
      " ...\n",
      " [6.65419193e-04 7.35401941e-04 8.12744838e-04 ... 1.20000000e+01\n",
      "  1.08580490e+01 9.82476904e+00]\n",
      " [6.02096185e-04 6.65419193e-04 7.35401941e-04 ... 1.08580490e+01\n",
      "  1.20000000e+01 1.08580490e+01]\n",
      " [5.44799157e-04 6.02096185e-04 6.65419193e-04 ... 9.82476904e+00\n",
      "  1.08580490e+01 1.20000000e+01]]\n"
     ]
    }
   ],
   "source": [
    "#3\n",
    "C = cov(distance, a, sigma2)\n",
    "print(C)"
   ]
  },
  {
   "cell_type": "code",
   "execution_count": 5,
   "metadata": {},
   "outputs": [],
   "source": [
    "#4\n",
    "C_Z1, distanceZ1 = np.zeros((len(observation_indexes),len(observation_indexes))), np.zeros((len(observation_indexes),len(observation_indexes)))\n",
    "C_Z2, distanceZ2 = np.zeros((len(unknown_indexes),len(unknown_indexes))), np.zeros((len(unknown_indexes),len(unknown_indexes)))\n",
    "C_Z1_Z2, distanceZ1_Z2 = np.zeros((len(observation_indexes),len(unknown_indexes))), np.zeros((len(observation_indexes),len(unknown_indexes)))\n",
    "\n",
    "for i in range(len(observation_indexes)):\n",
    "    for j in range(len(observation_indexes)):\n",
    "        C_Z1[i][j] = C[observation_indexes[i]][observation_indexes[j]]\n",
    "\n",
    "for i in range(len(observation_indexes)):\n",
    "    for j in range(len(unknown_indexes)):\n",
    "        C_Z1_Z2[i][j] = C[observation_indexes[i]][unknown_indexes[j]]\n",
    "        \n",
    "for i in range(len(unknown_indexes)):\n",
    "    for j in range(len(unknown_indexes)):\n",
    "        C_Z2[i][j] = C[unknown_indexes[i]][unknown_indexes[j]]\n",
    "\n"
   ]
  },
  {
   "cell_type": "code",
   "execution_count": 6,
   "metadata": {},
   "outputs": [
    {
     "name": "stdout",
     "output_type": "stream",
     "text": [
      "0 : 0.0\n",
      "1 : -0.4668833484492607\n",
      "2 : -0.8883977418166769\n",
      "3 : -1.268761837826951\n",
      "4 : -1.6117824481977427\n",
      "5 : -1.9208926384908498\n",
      "6 : -2.199186087386249\n",
      "7 : -2.449448049258145\n",
      "8 : -2.6741832299369017\n",
      "9 : -2.875640854646853\n",
      "10 : -3.0558371790083436\n",
      "11 : -3.21657566840166\n",
      "12 : -3.359465047654721\n",
      "13 : -3.4859354017018713\n",
      "14 : -3.5972524883545685\n",
      "15 : -3.6945304064309976\n",
      "16 : -3.778742746031505\n",
      "17 : -3.8507323325555567\n",
      "18 : -3.9112196619816215\n",
      "19 : -3.96081011183309\n",
      "20 : -4.0\n",
      "21 : -4.314320932784455\n",
      "22 : -4.621779358999524\n",
      "23 : -4.925452425915113\n",
      "24 : -5.228379395652954\n",
      "25 : -5.533592063143457\n",
      "26 : -5.844145099348386\n",
      "27 : -6.163146623434558\n",
      "28 : -6.493789309875146\n",
      "29 : -6.839382341808889\n",
      "30 : -7.20338453045721\n",
      "31 : -7.589438932069464\n",
      "32 : -8.001409308854349\n",
      "33 : -8.443418798810757\n",
      "34 : -8.91989118147869\n",
      "35 : -9.435595152611782\n",
      "36 : -9.995692050887232\n",
      "37 : -10.605787514318045\n",
      "38 : -11.271987583362405\n",
      "39 : -12.000959812228881\n",
      "40 : -12.8\n",
      "41 : -11.918105713568405\n",
      "42 : -11.105450154373834\n",
      "43 : -10.3538999924369\n",
      "44 : -9.655933461132204\n",
      "45 : -9.0045650768198\n",
      "46 : -8.393275725777013\n",
      "47 : -7.815947418717158\n",
      "48 : -7.266802059896437\n",
      "49 : -6.7403436179896445\n",
      "50 : -6.231303119961382\n",
      "51 : -5.734585917412965\n",
      "52 : -5.245220697628869\n",
      "53 : -4.758309729008165\n",
      "54 : -4.26897984292047\n",
      "55 : -3.772333661396364\n",
      "56 : -3.2634005825226056\n",
      "57 : -2.7370870329875125\n",
      "58 : -2.188125489887244\n",
      "59 : -1.6110217615861067\n",
      "60 : -1.0\n",
      "61 : -1.4370281543991066\n",
      "62 : -1.838396889011245\n",
      "63 : -2.2081232370371056\n",
      "64 : -2.5499075440370484\n",
      "65 : -2.8671705022332\n",
      "66 : -3.163087385946951\n",
      "67 : -3.4406198308116083\n",
      "68 : -3.7025454748172537\n",
      "69 : -3.951485757845344\n",
      "70 : -4.189932157920143\n",
      "71 : -4.420271126758203\n",
      "72 : -4.644807974179256\n",
      "73 : -4.865789940421732\n",
      "74 : -5.08542868727839\n",
      "75 : -5.3059224331509025\n",
      "76 : -5.529477953558471\n",
      "77 : -5.758332667288939\n",
      "78 : -5.994777029238046\n",
      "79 : -6.241177454051872\n",
      "80 : -6.5\n",
      "81 : -6.213559421165048\n",
      "82 : -5.939264552908522\n",
      "83 : -5.674370159995224\n",
      "84 : -5.416225090306796\n",
      "85 : -5.162245741220242\n",
      "86 : -4.909890202044498\n",
      "87 : -4.656632813723866\n",
      "88 : -4.399938891193285\n",
      "89 : -4.137239355398263\n",
      "90 : -3.8659050210882007\n",
      "91 : -3.583220283046703\n",
      "92 : -3.2863559374018285\n",
      "93 : -2.9723408660028108\n",
      "94 : -2.6380323004709796\n",
      "95 : -2.2800843683175027\n",
      "96 : -1.8949146063269326\n",
      "97 : -1.4786681060612397\n",
      "98 : -1.0271789326404859\n",
      "99 : -0.5359284306663241\n",
      "100 : 0.0\n"
     ]
    }
   ],
   "source": [
    "mZ1 = [mu for i in range(len(observation_indexes))]\n",
    "mZ2 = [mu for i  in range(len(unknown_indexes))]\n",
    "Z1 = depth\n",
    "C_Z2_Z1 = C_Z1_Z2.T\n",
    "Esp_Z2sachantZ1 = mZ2 + (np.dot(C_Z2_Z1,np.linalg.inv(C_Z1)).dot(Z1-mZ1))\n",
    "\n",
    "Esp_Z_Z1 = {}\n",
    "index_Z1 = 0\n",
    "index_Z2 = 0\n",
    "for i in range(101):\n",
    "    if i in observation_indexes:\n",
    "        Esp_Z_Z1[f\"{i}\"] = depth[index_Z1]\n",
    "        index_Z1 += 1\n",
    "    else:\n",
    "        Esp_Z_Z1[f\"{i}\"] = Esp_Z2sachantZ1[index_Z2]\n",
    "        index_Z2 += 1\n",
    "        \n",
    "for index in Esp_Z_Z1:\n",
    "    print(f\"{index} :\", Esp_Z_Z1[index])"
   ]
  },
  {
   "cell_type": "markdown",
   "metadata": {},
   "source": [
    "#### 6\n",
    "\n",
    "La matrice de covariance conditionnelle cherchée est : \n",
    "\\begin{equation}\n",
    "C_{Z_{2} | Z_{1}} = C_{Z_{2}} - C_{Z_{2}, Z_{1}} \\times C_{Z_{1}}^{-1} \\times C_{Z_{1}, Z_{2}}\n",
    "\\end{equation}\n",
    "\n",
    "D'où l'implémentation suivante."
   ]
  },
  {
   "cell_type": "code",
   "execution_count": 7,
   "metadata": {},
   "outputs": [
    {
     "data": {
      "text/plain": [
       "[<matplotlib.lines.Line2D at 0x23f569cbfc8>]"
      ]
     },
     "execution_count": 7,
     "metadata": {},
     "output_type": "execute_result"
    },
    {
     "data": {
      "image/png": "[encoded data removed]",
      "text/plain": [
       "<Figure size 432x288 with 1 Axes>"
      ]
     },
     "metadata": {
      "needs_background": "light"
     },
     "output_type": "display_data"
    }
   ],
   "source": [
    "def mat_cov_condi():\n",
    "    M = C_Z2 - ( (C_Z2_Z1.dot(np.linalg.inv(C_Z1))).dot(C_Z1_Z2) )\n",
    "    return M\n",
    "\n",
    "C_Z2sachantZ1 = mat_cov_condi()\n",
    "\n",
    "position = [i*Delta for i in unknown_indexes]\n",
    "variance = [C_Z2sachantZ1[i][i] for i in range(95)]\n",
    "\n",
    "plt.plot(position, variance)"
   ]
  },
  {
   "cell_type": "markdown",
   "metadata": {},
   "source": [
    "Comme ici, $\\Delta = 5$ (m), on obtient logiquement une variance nulle aux points d'observation situés tous les 100m. De la même façon, il paraît logique que la variance augmente lorsqu'on s'éloigne de ces points puisque la position est moins connue loin des sites d'observation."
   ]
  },
  {
   "cell_type": "markdown",
   "metadata": {},
   "source": [
    "### 7\n",
    "\n",
    "## Méthode de Box-Muller\n",
    "\n",
    "Pour simuler un vecteur gaussien $(Y_{1}, Y_{2})$ de composantes indépendantes, il suffit de considérer deux variables aléatoires uniformes indépendantes $U_{1}$ et $U_{2}$, alors :\n",
    "\\begin{equation}\n",
    "X_{1} = \\sqrt{-2 ln \\left(U_{1}\\right)} cos \\left(2\\pi U_{2}\\right) \\\\\n",
    "X_{2} = \\sqrt{-2 ln \\left(U_{1}\\right)} sin \\left(2\\pi U_{2}\\right)\n",
    "\\end{equation}\n",
    "sont deux variables aléatoires gaussiennes, indépendantes, d'espérance nulle et d'écart-type 1.\n",
    "\n",
    "On peut donc simuler autant de paires de composantes gaussiennes indépendantes que l'on veut, ici on veut simuler 95 composantes gaussiennes indépendantes, on va donc simuler 48 paires et enlever une composante à la fin. "
   ]
  },
  {
   "cell_type": "code",
   "execution_count": 8,
   "metadata": {},
   "outputs": [],
   "source": [
    "def simul_Y():\n",
    "    Y = []\n",
    "    for i in range(48):\n",
    "        U1 = np.random.random()\n",
    "        U2 = np.random.random()\n",
    "        \n",
    "        X1 = np.sqrt(-2 * np.log(U1))*np.cos(2*np.pi*U2)\n",
    "        X2 = np.sqrt(-2 * np.log(U1))*np.sin(2*np.pi*U2)\n",
    "        \n",
    "        Y.append(X1)\n",
    "        Y.append(X2)\n",
    "        \n",
    "    Y.pop()\n",
    "    return Y\n",
    "        "
   ]
  },
  {
   "cell_type": "code",
   "execution_count": 9,
   "metadata": {},
   "outputs": [],
   "source": [
    "def cholesky(A):\n",
    "    L = [[0.0] * len(A) for _ in range(len(A))]\n",
    "    for i, (Ai, Li) in enumerate(zip(A, L)):\n",
    "        for j, Lj in enumerate(L[:i+1]):\n",
    "            s = sum(Li[k] * Lj[k] for k in range(j))\n",
    "            Li[j] = math.sqrt(Ai[i] - s) if (i == j) else \\\n",
    "                      (1.0 / Lj[j] * (Ai[j] - s))\n",
    "    return L\n",
    "\n"
   ]
  },
  {
   "cell_type": "code",
   "execution_count": 10,
   "metadata": {},
   "outputs": [
    {
     "name": "stdout",
     "output_type": "stream",
     "text": [
      "[array([  0.        ,  -0.92095383,   0.37433255,   1.17200057,\n",
      "        -0.98491062,   1.01039286,  -0.85911331,  -0.63160539,\n",
      "        -2.04468752,  -2.14990709,  -0.85292447,   2.06691455,\n",
      "        -0.8892941 ,  -0.9044342 ,  -2.02168996,  -3.06309632,\n",
      "        -2.73379517,  -3.20719468,  -4.78810216,  -3.4849631 ,\n",
      "        -4.        ,  -2.73183015,  -4.73363124,  -3.06861952,\n",
      "        -4.04238096,  -2.80666831,  -3.36937449,  -3.19602768,\n",
      "        -4.66619051,  -6.90946959,  -8.28356602,  -7.6207951 ,\n",
      "        -9.90066551,  -9.03010843,  -6.85969613,  -6.42300901,\n",
      "        -6.12172088,  -9.94585522,  -9.85007495, -11.0253802 ,\n",
      "       -12.8       , -11.66571906, -11.41978668,  -8.7999952 ,\n",
      "        -7.50245196,  -7.63814485,  -6.31015861,  -5.96332026,\n",
      "        -6.0821462 ,  -4.86022809,  -4.74350282,  -5.31217591,\n",
      "        -2.78573182,  -3.3772281 ,  -0.36581761,  -3.17595244,\n",
      "        -4.13873509,  -3.12856389,  -3.89280108,  -2.72370266,\n",
      "        -1.        ,  -0.82752965,  -2.43641114,  -2.80141093,\n",
      "        -4.99488253,  -4.20870627,  -2.94748105,  -1.04141822,\n",
      "         0.35581674,  -2.66205053,  -3.25914597,   0.67926131,\n",
      "        -1.6745422 ,  -2.05423179,  -2.92811527,  -5.18746243,\n",
      "        -4.75817423,  -5.05511458,  -4.87485574,  -5.7418345 ,\n",
      "        -6.5       ,  -6.77688717,  -5.25803105,  -3.58689989,\n",
      "        -3.51291749,  -2.27701628,  -3.20521744,  -1.31762834,\n",
      "        -3.29015214,  -3.36593813,  -3.16295946,   0.09653372,\n",
      "        -2.33553495,  -2.86444503,  -0.83747832,  -0.89510313,\n",
      "         0.67235584,   1.62723177,   1.53768539,  -0.53919979,\n",
      "         0.        ]), array([  0.        ,  -0.43944873,   2.54073032,   1.23276893,\n",
      "         1.20160057,  -0.57487925,   0.16986108,  -0.57737606,\n",
      "         0.86991272,   0.23766539,  -0.46021694,  -1.41971785,\n",
      "        -1.78353619,  -3.51694327,  -4.48325545,  -9.58187446,\n",
      "        -8.58376408,  -8.17301754,  -7.07274719,  -5.44424655,\n",
      "        -4.        ,  -3.9331196 ,  -4.00303338,  -4.38889834,\n",
      "        -2.14668338,  -4.8442267 ,  -2.61674408,  -1.40961288,\n",
      "        -2.87740014,  -4.72875915,  -4.35960138,  -5.15988857,\n",
      "        -8.24429402,  -6.50171302,  -9.9849308 ,  -8.18207924,\n",
      "        -9.97152081, -11.16786613, -11.97037975, -10.90087219,\n",
      "       -12.8       , -16.21991977, -13.51723929, -14.03334278,\n",
      "       -11.12040087, -11.94761017, -11.28263039, -11.75692947,\n",
      "        -9.22693119,  -8.97748461,  -7.7912568 ,  -6.10777973,\n",
      "        -6.53571495,  -3.81865196,  -5.38810934,  -4.82798197,\n",
      "        -5.84193101,  -5.20660952,  -3.48162685,  -3.95902426,\n",
      "        -1.        ,   1.36251991,  -0.50067198,  -2.59244997,\n",
      "        -4.80146779,  -4.81287682,  -6.38224495,  -6.75165268,\n",
      "        -4.87431045,  -3.82037542,  -3.64935935,  -5.25043356,\n",
      "        -4.95645451,  -5.72428838,  -6.83553249,  -6.92617295,\n",
      "        -7.9203963 ,  -9.38397092,  -6.82720283,  -8.60875643,\n",
      "        -6.5       ,  -7.18376913,  -6.61057514,  -8.41087143,\n",
      "        -7.24886597,  -8.83264165,  -8.35028334,  -5.87454415,\n",
      "        -4.7402777 ,  -3.32179917,  -1.22455213,  -3.33152857,\n",
      "        -4.2254738 ,  -4.13574463,  -3.88184937,  -3.73336375,\n",
      "        -2.61745319,  -2.40185824,  -0.09554871,  -2.5452012 ,\n",
      "         0.        ]), array([  0.        ,   1.25826714,   1.45519272,  -0.74316459,\n",
      "        -2.40195367,  -1.83471561,  -2.39839176,  -1.46081794,\n",
      "         0.73706868,  -1.8424249 ,   0.42656437,  -2.00235237,\n",
      "        -2.19576279,  -2.48985063,  -1.955387  ,  -1.23145444,\n",
      "        -4.85108183,  -5.40500703,  -4.55106622,  -4.5737057 ,\n",
      "        -4.        ,  -3.96069653,  -3.85344673,  -4.91947772,\n",
      "        -3.45739923,  -3.70336419,  -5.07709883,  -6.51984021,\n",
      "        -8.34286659,  -5.43468842,  -5.68367818,  -6.73971169,\n",
      "        -6.76011655,  -8.32055137,  -8.42716518,  -9.99726079,\n",
      "        -9.14300375, -10.48313327, -10.40138996, -10.57666633,\n",
      "       -12.8       , -10.56533424, -12.47149381, -12.35203256,\n",
      "       -13.09159798, -13.52787157, -15.41906674, -15.04606253,\n",
      "       -15.28371614, -13.92859282, -13.72757727, -14.61780561,\n",
      "       -13.28818536,  -8.88884016,  -4.4927785 ,  -4.49622773,\n",
      "        -3.9519663 ,  -4.86957049,  -2.49861154,  -1.38004918,\n",
      "        -1.        ,  -2.9725228 ,  -2.36292769,  -2.06285711,\n",
      "        -1.96319524,  -3.33890053,  -5.68545331,  -6.2135447 ,\n",
      "        -5.67278091,  -6.12735737,  -6.91055441,  -6.42041896,\n",
      "        -7.30125409,  -5.49501913,  -7.12379936,  -5.32968621,\n",
      "        -5.8456177 ,  -5.56194512,  -3.58898228,  -3.21869521,\n",
      "        -6.5       ,  -2.72437105,  -2.95088984,  -1.25086442,\n",
      "        -0.95482928,  -0.08655205,   0.26116533,   0.15460578,\n",
      "        -1.69821482,  -2.33790689,  -1.16761457,  -0.92630489,\n",
      "        -1.2104984 ,  -2.04325662,   0.57003238,  -1.32802135,\n",
      "        -1.93723438,  -1.86525581,   1.02998001,   0.68482262,\n",
      "         0.        ]), array([  0.        ,  -0.96617128,  -1.26987092,  -1.67347251,\n",
      "        -2.0887247 ,  -0.38930579,  -2.11014138,  -0.01978665,\n",
      "         2.34880778,   0.52465203,   0.71692153,  -0.04128369,\n",
      "         1.38483909,  -0.27159897,   1.41013698,  -0.05845186,\n",
      "        -0.6072091 ,  -2.735281  ,  -1.93573661,  -1.95603833,\n",
      "        -4.        ,  -4.64343139,  -5.65974122,  -7.09002086,\n",
      "        -8.15401961,  -9.21016013,  -8.27243912,  -6.77404404,\n",
      "        -7.26791821,  -8.87625431,  -6.26212719,  -8.24199851,\n",
      "        -7.99738461,  -9.82387399,  -9.56489102,  -9.5361336 ,\n",
      "        -9.14931595, -10.72554458, -12.72608616, -12.13042595,\n",
      "       -12.8       , -12.17477108, -11.17269243, -10.46316497,\n",
      "       -10.77821272, -10.68703774,  -9.18688885,  -8.5673275 ,\n",
      "        -9.37550815,  -6.78645573,  -5.538274  ,  -4.28036416,\n",
      "        -4.13815115,  -6.17593499,  -6.31079759,  -4.93592247,\n",
      "        -4.98643246,  -3.88706005,  -3.26279108,  -0.33528144,\n",
      "        -1.        ,   0.15995655,   0.29846803,  -1.68009435,\n",
      "        -2.31694074,  -2.1279332 ,  -1.87870189,  -2.71573638,\n",
      "        -1.95725747,  -2.49164139,  -2.93511022,  -2.21472114,\n",
      "        -1.79897849,  -5.30633989,  -5.15621784,  -4.50748788,\n",
      "        -6.14830109,  -4.5234904 ,  -5.3937722 ,  -5.74173358,\n",
      "        -6.5       ,  -7.15355773,  -6.17235423,  -5.97200172,\n",
      "        -7.3935687 ,  -5.7502191 ,  -4.27946573,  -1.03692161,\n",
      "        -0.05047101,  -1.73353041,  -2.95359637,  -0.63896535,\n",
      "         0.48910626,  -1.82946229,  -2.4316839 ,  -0.66860799,\n",
      "        -2.21105626,  -0.87123623,   0.07692133,  -1.30344399,\n",
      "         0.        ]), array([  0.        ,  -0.27693759,  -1.3300259 ,  -0.19615807,\n",
      "         0.46634461,  -0.95256496,  -1.02335731,   0.37096603,\n",
      "        -2.04144201,  -0.14168689,  -2.03809353,  -1.36812102,\n",
      "        -3.01939102,  -4.96117258,  -4.26961455,  -2.36527559,\n",
      "        -2.95881261,  -4.78570304,  -5.23032981,  -7.29952727,\n",
      "        -4.        ,  -4.60995214,  -6.05168162,  -4.05939214,\n",
      "        -3.53030156,  -3.80767973,  -2.21435937,  -2.82946352,\n",
      "        -2.6608369 ,  -1.35226292,  -1.32338866,  -2.00882298,\n",
      "        -4.3898318 ,  -2.73974541,  -2.30119388,  -6.3308612 ,\n",
      "        -8.53484917,  -6.00212619,  -9.53324161, -10.4224318 ,\n",
      "       -12.8       , -13.0398108 , -11.14246583,  -9.04607295,\n",
      "        -8.40326129,  -9.86155207,  -8.92664983, -11.08573093,\n",
      "       -10.8101696 ,  -9.51467405, -10.00695028, -10.4948132 ,\n",
      "       -11.1769636 ,  -9.38694093,  -7.74195792,  -5.54808856,\n",
      "        -3.64042747,  -1.28593666,  -1.2205713 ,  -2.67488232,\n",
      "        -1.        ,  -0.61981911,  -0.26609462,  -4.2121119 ,\n",
      "        -5.35070339,  -4.81998939,  -4.33055386,  -2.07037643,\n",
      "        -2.65779597,  -1.49838014,  -2.59149712,  -2.58689645,\n",
      "        -2.46494679,  -4.54525335,  -5.80243367,  -6.2395408 ,\n",
      "        -6.16546708,  -7.82038287,  -7.70807279,  -7.05718651,\n",
      "        -6.5       ,  -8.78035375,  -7.85116988,  -8.92248225,\n",
      "        -9.27679995,  -9.08274361,  -7.61693892,  -8.82931175,\n",
      "        -7.58879514,  -7.25387586,  -5.85902465,  -7.25266614,\n",
      "        -7.03758549,  -5.84592819,  -7.66515061,  -6.5779039 ,\n",
      "        -5.7470889 ,  -3.90340652,  -4.72228701,  -1.79675034,\n",
      "         0.        ]), array([  0.        ,   1.82506418,  -1.71004827,  -2.07685517,\n",
      "        -1.0626204 ,   3.08527068,   1.33933848,  -1.8345463 ,\n",
      "        -1.45828328,  -2.87424228,  -2.62378341,  -0.34967082,\n",
      "        -2.1334129 ,  -1.63836712,  -1.87741548,  -0.39282715,\n",
      "        -3.84907969,  -2.44841047,  -2.56922936,  -2.40473253,\n",
      "        -4.        ,  -3.37076581,  -1.526442  ,  -2.6191203 ,\n",
      "        -3.5748841 ,  -4.97699688,  -5.26426944,  -5.52832621,\n",
      "        -5.82620853,  -4.63904716,  -5.32034658,  -7.33068001,\n",
      "        -6.47134336,  -5.35193803,  -7.43345601,  -6.97087719,\n",
      "        -4.70605707,  -7.60804741, -10.06714953, -10.70718454,\n",
      "       -12.8       , -10.38742134,  -9.81267332,  -9.52784484,\n",
      "        -9.78947175,  -7.72620289,  -5.15772062,  -4.14694101,\n",
      "        -3.10420124,  -2.09196379,  -1.44331257,  -2.23286275,\n",
      "        -2.01859109,   1.2118464 ,   3.19871726,   2.06209254,\n",
      "         1.25677863,   2.63505457,  -0.20056789,  -2.14378899,\n",
      "        -1.        ,  -2.96844033,  -0.52794922,   0.61110713,\n",
      "         0.21691332,   0.86773031,   1.14533827,  -0.36555314,\n",
      "        -2.18291104,  -3.41510062,  -3.58908891,  -2.65253396,\n",
      "        -2.36042012,  -3.92387978,  -5.899037  ,  -3.57977228,\n",
      "        -4.6922001 ,  -8.83145315,  -8.92442848,  -8.89955934,\n",
      "        -6.5       ,  -7.49684936,  -3.39317252,  -3.39545965,\n",
      "        -3.78671361,  -2.83240795,  -3.3852875 ,  -4.56911843,\n",
      "        -1.89820283,  -0.45551528,  -0.14942302,   2.3478146 ,\n",
      "        -0.62611452,   0.18321356,  -2.47736424,  -2.17327787,\n",
      "        -0.78440487,   0.46203058,  -0.40068263,   0.19243035,\n",
      "         0.        ]), array([  0.        ,  -0.83522951,  -3.78458506,  -3.58375436,\n",
      "        -2.69836932,  -4.86807051,  -3.45055703,  -3.43650814,\n",
      "        -4.75898178,  -5.51753183,  -7.28483753,  -7.52616793,\n",
      "        -8.84012498,  -9.13944541,  -8.01920798,  -7.81504074,\n",
      "        -6.6674499 ,  -8.71675671,  -6.74150728,  -5.50206872,\n",
      "        -4.        ,  -3.32379799,  -4.3921131 ,  -3.78887547,\n",
      "        -5.88501764,  -4.67458152,  -3.78914439,  -2.58083149,\n",
      "        -4.64888476,  -3.35742952,  -4.11107281,  -6.90823117,\n",
      "        -8.83926148,  -8.17008437,  -8.23573205,  -8.90678487,\n",
      "        -8.27046375,  -9.04669803, -10.66015025, -11.85287063,\n",
      "       -12.8       , -13.98683654, -14.06986202, -11.11642715,\n",
      "       -11.70068197, -12.19868636, -10.83484611, -10.47624098,\n",
      "       -10.28863942,  -8.34505444,  -5.45322376,  -7.19527506,\n",
      "        -7.27953043,  -6.1441626 ,  -5.86528105,  -4.48806412,\n",
      "        -4.85835194,  -4.35121239,  -2.99717254,  -2.29325654,\n",
      "        -1.        ,   0.51930755,  -2.73567855,  -1.73606079,\n",
      "        -3.52992675,  -4.62509972,  -3.83179591,  -3.07239565,\n",
      "        -3.0129598 ,  -4.06178836,  -5.02337789,  -6.29088274,\n",
      "        -5.68689851,  -5.53398808,  -5.37014328,  -2.42836937,\n",
      "        -1.97813966,  -1.26728556,  -3.54098656,  -4.93011874,\n",
      "        -6.5       ,  -6.23933975,  -4.78989928,  -5.03943885,\n",
      "        -7.50592509,  -6.45229226,  -5.9913883 ,  -4.32856016,\n",
      "        -3.55244712,  -4.34554293,  -2.88892942,  -4.69717266,\n",
      "        -7.35515393,  -5.05067244,  -6.14915944,  -4.43106387,\n",
      "        -2.28278594,   0.39218007,   1.18464522,  -0.68249569,\n",
      "         0.        ]), array([  0.        ,   0.48039847,   1.82612982,   3.09360895,\n",
      "         5.79119327,   3.58605035,   3.0587433 ,   2.05843426,\n",
      "         2.70423912,   1.7168096 ,   0.26918083,   0.58284924,\n",
      "         0.27961581,  -1.18193398,  -1.8126996 ,  -2.20735793,\n",
      "        -3.04564237,  -2.76016774,  -5.33437378,  -4.68451645,\n",
      "        -4.        ,  -4.24664862,  -4.9491947 ,  -5.8122825 ,\n",
      "        -7.24916299,  -7.21944812,  -8.41667728, -10.48266715,\n",
      "       -11.59726386, -11.2220511 , -10.41094698,  -7.25756869,\n",
      "        -8.19916107,  -7.9973955 ,  -7.91392938, -10.13220946,\n",
      "       -13.07122332, -15.04610202, -11.95991479, -11.15267501,\n",
      "       -12.8       , -12.82446085, -15.78952926, -14.40309559,\n",
      "       -11.66255947, -12.3851134 , -12.15566226, -11.69569661,\n",
      "        -9.83996628,  -9.45917857,  -8.10866652,  -5.34369952,\n",
      "        -6.41353526,  -6.11306007,  -6.94896176,  -6.54052819,\n",
      "        -4.45228694,  -4.93031943,  -2.49337163,  -1.89392501,\n",
      "        -1.        ,  -2.70133899,  -4.09747729,  -6.37029105,\n",
      "        -5.19154199,  -4.66846818,  -4.2024492 ,  -3.65283871,\n",
      "        -5.08932787,  -5.15700846,  -6.32109742,  -5.40490558,\n",
      "        -3.85418508,  -2.90140287,  -4.1752941 ,  -6.13380431,\n",
      "        -4.9258539 ,  -3.56799497,  -3.39866922,  -6.91986451,\n",
      "        -6.5       ,  -6.40958443,  -8.07218764,  -7.68242449,\n",
      "        -5.76052249,  -7.03608669,  -6.26846037,  -7.72121114,\n",
      "        -8.98032621,  -7.58946028,  -8.16593975,  -7.23923959,\n",
      "        -6.544461  ,  -4.85378808,  -4.87609094,  -4.17564315,\n",
      "        -3.67256738,  -4.1220525 ,  -4.67502968,  -1.71322987,\n",
      "         0.        ]), array([  0.        ,   1.98842225,   2.19007239,  -1.50877111,\n",
      "        -3.50440639,  -1.26122749,  -0.46292381,   0.35805035,\n",
      "        -1.6618781 ,  -1.11599461,  -1.02431607,  -4.00170648,\n",
      "        -2.24133661,  -1.06016504,  -1.71917959,  -1.21762957,\n",
      "        -1.91248461,  -3.82521521,  -4.06706247,  -4.07031904,\n",
      "        -4.        ,  -5.19803723,  -4.48582697,  -6.49484374,\n",
      "        -7.23755308,  -3.54961785,  -1.59631885,  -1.79178057,\n",
      "        -2.58094272,  -0.30579184,  -0.27079086,  -1.29755658,\n",
      "        -3.66648432,  -5.19306262,  -7.17741688,  -7.07605799,\n",
      "        -8.5102754 , -10.7029992 , -10.79181015, -12.57147087,\n",
      "       -12.8       , -11.62085554,  -9.74449154,  -7.76715043,\n",
      "        -9.88950264,  -8.31750531,  -9.29098067,  -8.16846444,\n",
      "        -8.11916976,  -9.03687413,  -6.57100445,  -4.49100137,\n",
      "        -4.32079564,  -3.65613676,   0.10660855,   1.24667703,\n",
      "         0.71400886,   0.95342358,  -0.30538975,  -2.82399857,\n",
      "        -1.        ,  -3.66958893,  -2.68466302,  -1.19738593,\n",
      "        -1.91561382,  -0.62423437,   0.45826882,  -0.84365546,\n",
      "        -2.20388192,  -2.87731959,  -2.67339228,  -0.72173023,\n",
      "        -1.59564066,  -2.80546556,  -3.26236838,  -5.10100146,\n",
      "        -7.33900261,  -6.56895399,  -7.03809749,  -6.48717175,\n",
      "        -6.5       ,  -5.47376134,  -4.31151851,  -3.71234236,\n",
      "         1.14092943,   0.25085554,   0.28130976,   1.47648379,\n",
      "         2.0571874 ,   1.41049521,   1.9196888 ,   2.44604504,\n",
      "         2.71669033,  -0.74021803,  -1.4029801 ,  -2.19096486,\n",
      "        -2.88398238,  -2.31260859,  -0.02781975,  -0.08643071,\n",
      "         0.        ]), array([  0.        ,  -0.32880233,   0.13618264,   2.64068858,\n",
      "        -0.09017864,  -1.24053135,  -2.96451829,  -2.54062694,\n",
      "        -2.00087273,  -1.66609564,   0.75979713,   1.76845285,\n",
      "         2.13590947,   0.79707954,  -1.86804352,  -2.72683978,\n",
      "        -4.21216745,  -4.92356714,  -3.84828885,  -4.44917019,\n",
      "        -4.        ,  -2.84736493,  -3.04296332,  -4.28162288,\n",
      "        -4.39389465,  -6.58001654,  -4.10058159,  -4.13086083,\n",
      "        -4.80209113,  -5.13879063,  -4.42555441,  -6.1032215 ,\n",
      "        -7.11403352,  -8.08280301,  -7.49985536,  -7.76254975,\n",
      "        -9.07927166,  -8.70248862,  -6.58817319, -10.37929569,\n",
      "       -12.8       , -12.09612251, -11.85948921,  -8.29374601,\n",
      "        -9.45382398,  -9.50647308,  -7.42243278,  -4.66352801,\n",
      "        -4.58302572,  -1.70007624,  -1.682471  ,  -1.30579234,\n",
      "         0.41143964,   0.85891359,  -1.17024593,  -0.14129669,\n",
      "        -1.47602183,   1.86576547,   1.50628611,  -0.38170281,\n",
      "        -1.        ,   0.70845552,   1.60820408,   2.93167062,\n",
      "         0.01361655,   2.50506082,   4.26813844,   6.14039992,\n",
      "         4.52165142,   4.50419134,   5.33315812,   4.86585279,\n",
      "         5.53174347,   7.79872663,   4.2619513 ,   0.65822573,\n",
      "        -1.43916304,  -0.46148646,  -3.88908569,  -4.53419851,\n",
      "        -6.5       ,  -5.91729028,  -7.30311179,  -6.10096173,\n",
      "        -7.40504626,  -6.61944436,  -6.28198432,  -5.52193997,\n",
      "        -1.85321258,  -1.43061772,  -4.66862023,  -1.49382808,\n",
      "        -1.26785118,  -0.05621154,  -0.94943741,  -0.59702617,\n",
      "        -0.61043834,   1.53491754,   0.48368811,   0.50438564,\n",
      "         0.        ]), array([  0.        ,  -2.55152192,  -3.89817277,  -5.40032782,\n",
      "        -4.75344598,  -6.57801212,  -7.64966239,  -4.75616752,\n",
      "        -3.48738282,  -4.70195666,  -2.02640514,  -3.13946927,\n",
      "        -3.09090357,  -3.72310477,  -3.69554935,  -1.0423753 ,\n",
      "        -2.15155235,  -2.94495588,  -0.88349438,  -3.33916387,\n",
      "        -4.        ,  -4.3569019 ,  -5.4468507 ,  -5.85125747,\n",
      "        -6.95619048,  -6.01789121,  -7.35405398,  -7.05666962,\n",
      "        -8.32666374,  -9.27694597,  -9.08817911,  -7.19369355,\n",
      "        -7.92139605,  -8.56120924,  -7.87097838,  -8.30423875,\n",
      "        -6.88060942,  -7.9270165 , -10.97336637, -12.16232786,\n",
      "       -12.8       , -13.1950937 ,  -8.99907206,  -8.62600728,\n",
      "        -6.36544733,  -6.79320717,  -5.57654224,  -5.05543281,\n",
      "        -5.08099107,  -4.2825959 ,  -5.57098791,  -5.25138868,\n",
      "        -7.5000598 ,  -6.37776261,  -6.89246913,  -6.23657921,\n",
      "        -3.25961782,   0.68516851,   0.4219881 ,   0.62635322,\n",
      "        -1.        ,  -1.48462398,  -2.14664846,  -3.92570068,\n",
      "        -4.52712115,  -4.75049027,  -5.51802123,  -4.84301354,\n",
      "        -3.80541035,  -3.96861008,  -4.18220055,  -5.05789986,\n",
      "        -3.34580779,  -5.71474494,  -4.90772525,  -6.88364406,\n",
      "        -7.16458721,  -6.37852717,  -6.92690921,  -6.75596707,\n",
      "        -6.5       ,  -8.10569878,  -8.02789992,  -7.24750484,\n",
      "        -7.60254154,  -8.34304701,  -7.95816208,  -7.30958762,\n",
      "        -6.27512137,  -6.88848905,  -6.7495482 ,  -6.25815395,\n",
      "        -5.02845121,  -6.27854791,  -4.95011935,  -4.07217372,\n",
      "        -2.8205979 ,  -2.54553861,  -2.89995711,  -3.80250383,\n",
      "         0.        ]), array([  0.        ,  -5.04373628,  -5.4853422 ,  -4.41761661,\n",
      "        -4.78332564,  -2.66027567,  -1.89960854,  -1.95827753,\n",
      "        -2.67558333,  -2.43239424,  -2.14523631,  -1.9025427 ,\n",
      "        -2.19073428,  -2.54834647,  -1.59158309,  -0.36742144,\n",
      "        -0.96269039,  -2.87651485,  -3.25110485,  -4.0788575 ,\n",
      "        -4.        ,  -4.89165451,  -5.74537592,  -5.59071326,\n",
      "        -6.3452092 ,  -8.31982003,  -9.36944936,  -8.46905569,\n",
      "        -8.01400103,  -7.93601002,  -9.69685207,  -8.68298234,\n",
      "        -8.64053433, -11.6624769 , -13.98978979, -14.32559965,\n",
      "       -13.58966234, -11.30752594, -11.55335837, -11.82533162,\n",
      "       -12.8       , -12.64409665, -11.95413595, -10.68984929,\n",
      "       -11.2799482 , -10.32123213,  -8.27270112,  -9.83151719,\n",
      "       -10.82998798, -10.95964783, -10.77572432,  -8.19895871,\n",
      "        -6.89549703,  -4.7468751 ,  -3.1365199 ,  -2.08007113,\n",
      "         0.72407809,   2.01978203,   2.78632838,  -0.03847372,\n",
      "        -1.        ,  -0.1820373 ,  -3.36031862,  -6.31346186,\n",
      "        -8.83096194,  -7.31834396,  -6.25589851,  -4.44517318,\n",
      "        -5.40497649,  -6.09200774,  -6.02450781,  -4.59646221,\n",
      "        -4.62337459,  -5.60782378,  -5.56282497,  -5.4467403 ,\n",
      "        -8.07740005,  -9.49438388,  -7.53780393,  -6.77754131,\n",
      "        -6.5       ,  -4.02904054,  -3.86857445,  -3.88824494,\n",
      "        -3.70041482,  -3.27501016,  -4.906946  ,  -6.42108686,\n",
      "        -5.10658969,  -6.01696528,  -6.31141417,  -3.0960731 ,\n",
      "        -2.6878127 ,  -2.97557648,  -4.2841824 ,  -3.10901971,\n",
      "        -4.03000067,  -4.7787788 ,  -6.09316109,  -3.90304293,\n",
      "         0.        ]), array([  0.        ,  -0.20738094,  -0.97458955,  -1.16709943,\n",
      "         0.54510714,   0.3439192 ,  -1.46734598,  -0.39133876,\n",
      "        -2.13915007,   0.50554131,  -0.59906173,  -0.53247265,\n",
      "        -2.70728739,  -0.85272648,  -2.06394856,  -2.17384449,\n",
      "        -1.59448922,  -2.05845523,  -2.57470511,  -2.85850222,\n",
      "        -4.        ,  -5.23568149,  -5.35685331,  -2.78800463,\n",
      "        -5.45699374,  -4.28319961,  -3.70826468,  -5.94295344,\n",
      "        -6.38594974,  -5.79261123,  -5.64951606,  -5.64087454,\n",
      "        -3.92321686,  -6.58093162,  -7.2668292 ,  -9.23275591,\n",
      "        -9.5700341 ,  -9.72960621,  -8.04638297, -10.89465096,\n",
      "       -12.8       , -10.99793523, -11.81052881, -10.59301867,\n",
      "       -10.1452461 ,  -9.09793595,  -9.26627965,  -6.6100762 ,\n",
      "        -4.83999764,  -2.20536386,  -2.03734103,  -3.55195192,\n",
      "        -3.14282778,  -4.79870597,  -6.11833935,  -4.43752025,\n",
      "        -1.85377596,  -2.05026213,   0.2184839 ,  -1.803416  ,\n",
      "        -1.        ,  -3.84670977,  -5.22622081,  -6.32204453,\n",
      "        -4.7309125 ,  -4.60450006,  -4.69749601,  -5.57555321,\n",
      "        -4.92727129,  -6.56636248,  -6.91188099,  -6.07350732,\n",
      "        -5.28595826,  -7.62419045,  -9.32750193,  -9.12273655,\n",
      "        -7.80463757,  -8.86025801,  -7.30372283,  -6.91019775,\n",
      "        -6.5       ,  -5.66648399,  -7.53438625,  -9.95163365,\n",
      "        -8.06601259,  -5.11965913,  -3.89619849,  -4.73790522,\n",
      "        -4.37364644,  -3.00024466,  -1.55868494,   0.49632803,\n",
      "        -0.81517939,   1.35119997,  -1.79590447,  -2.09783171,\n",
      "        -2.66630946,  -4.31619986,  -2.83203345,  -2.87788178,\n",
      "         0.        ]), array([  0.        ,  -2.38082659,  -3.8274603 ,  -4.64610254,\n",
      "        -4.63437661,  -5.99553417,  -7.89773904,  -5.64437748,\n",
      "        -6.5693505 ,  -6.78239843,  -3.63903161,  -3.45639165,\n",
      "         0.14922105,  -0.85374354,  -0.6566769 ,  -1.617273  ,\n",
      "        -3.14789553,  -3.02897441,  -1.49357685,  -2.8582295 ,\n",
      "        -4.        ,  -3.15778157,  -5.51187893,  -5.84722292,\n",
      "        -2.7966177 ,  -2.52018075,  -6.6686331 ,  -6.65610648,\n",
      "        -8.26972898,  -8.87883076,  -7.59334748,  -4.10014947,\n",
      "        -5.70203206,  -5.64394986,  -5.56621582,  -7.09132707,\n",
      "       -10.05616041, -10.48455172, -12.5610892 , -11.94874763,\n",
      "       -12.8       , -13.81523231, -10.21934322, -10.94233076,\n",
      "        -7.48591076,  -6.91027625,  -7.92897736,  -6.63832392,\n",
      "        -6.13886743,  -6.20731089,  -5.93565464,  -5.64032568,\n",
      "        -4.72498266,  -3.50187546,  -6.64212286,  -6.69199172,\n",
      "        -3.82064839,  -5.30632541,  -3.65609483,  -1.69788705,\n",
      "        -1.        ,  -3.91284815,  -5.55574641,  -5.29908294,\n",
      "        -5.6464513 ,  -4.88808544,  -3.03982869,   0.12432122,\n",
      "        -1.65410096,  -3.96224772,  -1.38590981,  -0.88173317,\n",
      "        -2.27895013,  -3.13042766,  -2.14851591,  -3.23735265,\n",
      "        -4.66783979,  -4.92111987,  -5.92748077,  -5.68718545,\n",
      "        -6.5       ,  -6.99514144,  -3.03700643,  -3.85970154,\n",
      "        -3.72896504,  -4.3724719 ,  -3.76485886,  -4.56141474,\n",
      "        -1.43148828,  -1.44100998,  -0.81666129,  -0.4710438 ,\n",
      "        -0.96715303,  -0.78679893,  -2.65877502,  -1.20750244,\n",
      "        -0.70343682,   0.43292056,  -0.51448775,  -1.57097063,\n",
      "         0.        ]), array([  0.        ,   0.74801237,  -0.58266064,  -2.52461254,\n",
      "        -6.77324058,  -6.52625246,  -4.72110615,  -7.24610836,\n",
      "        -6.14047541,  -3.9514718 ,  -2.34983799,  -2.41115821,\n",
      "        -1.51498744,  -2.54358594,  -2.48143082,  -3.04933792,\n",
      "        -3.60270956,  -2.72329362,  -0.86345755,  -1.99621141,\n",
      "        -4.        ,  -5.90403495,  -6.96593352,  -7.63053015,\n",
      "        -8.34470799, -10.4393703 , -13.5722676 , -11.83040981,\n",
      "       -10.44880029, -12.58079297, -10.69876462, -12.0089777 ,\n",
      "       -13.10557187, -10.77982103, -11.23708799, -11.95720106,\n",
      "       -10.71252723, -11.92607301, -12.90588534, -13.88573879,\n",
      "       -12.8       , -12.18144693, -10.8701332 ,  -9.64301557,\n",
      "       -11.87505993, -11.92001084, -12.23889417, -12.52555065,\n",
      "       -11.40038705,  -9.19913531, -10.13171522,  -9.92816682,\n",
      "        -7.57440768,  -6.72686957,  -5.80009353,  -5.07064521,\n",
      "        -3.51434345,  -3.97223184,  -1.86426958,  -0.62701716,\n",
      "        -1.        ,  -0.24271416,   0.36126506,   1.89826445,\n",
      "         0.52999101,  -1.25596092,  -4.65915775,  -3.18233549,\n",
      "        -2.88369798,  -4.85080829,  -6.77269271,  -8.24923741,\n",
      "        -7.86136655,  -6.99337122,  -8.83294453,  -7.64457256,\n",
      "        -7.26083797,  -9.01427291,  -8.37360218,  -9.30822486,\n",
      "        -6.5       ,  -6.82063504,  -4.79721229,  -4.60072703,\n",
      "        -5.50506072,  -5.60716032,  -6.65408963,  -7.17103373,\n",
      "        -8.50240287,  -7.00844434,  -7.35544657,  -6.10176981,\n",
      "        -6.64441345,  -5.66709975,  -7.94482281,  -4.27792911,\n",
      "        -1.78447256,  -2.4134898 ,  -3.29221594,   0.36238971,\n",
      "         0.        ]), array([ 0.00000000e+00, -6.57996808e-01, -1.16595878e+00, -2.51787251e+00,\n",
      "       -5.46677067e-01, -2.03360104e+00, -1.26454205e+00, -2.45370250e+00,\n",
      "       -4.60951509e+00, -1.34947141e+00, -1.74883506e+00, -2.07704443e+00,\n",
      "       -1.13422694e+00, -2.63235466e+00, -4.53367920e+00, -4.79528980e+00,\n",
      "       -5.58264847e+00, -5.12606047e+00, -4.05880285e+00, -4.81116600e+00,\n",
      "       -4.00000000e+00, -4.66509768e+00, -6.28091823e+00, -7.07886825e+00,\n",
      "       -7.05141416e+00, -7.57807409e+00, -7.93577700e+00, -8.49335964e+00,\n",
      "       -6.26715448e+00, -3.45272466e+00, -5.83335922e+00, -5.72998169e+00,\n",
      "       -5.57799895e+00, -9.14035894e+00, -1.11516450e+01, -1.18529088e+01,\n",
      "       -1.21751693e+01, -1.33931213e+01, -1.25743738e+01, -1.03480569e+01,\n",
      "       -1.28000000e+01, -1.01847778e+01, -1.03004825e+01, -1.13987067e+01,\n",
      "       -1.08271545e+01, -1.30166051e+01, -1.21808327e+01, -7.97129749e+00,\n",
      "       -9.16064782e+00, -7.92621087e+00, -7.17101800e+00, -5.26015580e+00,\n",
      "       -4.75823007e+00, -1.11772141e+00, -8.86951883e-03, -9.67200146e-02,\n",
      "       -2.57636360e+00, -2.65463567e+00, -2.48299924e+00, -3.37421296e+00,\n",
      "       -1.00000000e+00, -1.47491497e+00, -1.37712355e+00, -2.15992128e+00,\n",
      "       -8.31972081e-01, -1.57950929e+00, -4.25399512e+00, -4.87409762e+00,\n",
      "       -3.19882406e+00, -6.99891977e+00, -4.54152175e+00, -6.63476332e+00,\n",
      "       -4.37260851e+00, -5.35398232e+00, -4.27782286e+00, -2.69996060e+00,\n",
      "       -4.38437216e+00, -3.11766957e+00, -4.23499849e+00, -5.44873197e+00,\n",
      "       -6.50000000e+00, -7.54408857e+00, -8.87238783e+00, -7.00130696e+00,\n",
      "       -8.23215314e+00, -8.31508987e+00, -7.67863775e+00, -8.29317868e+00,\n",
      "       -6.65105366e+00, -6.37722982e+00, -6.62530919e+00, -6.33074147e+00,\n",
      "       -5.40817869e+00, -4.28922874e+00, -3.62263874e+00, -2.70534764e+00,\n",
      "       -6.05074208e+00, -7.83075907e+00, -6.58745593e+00, -2.20414798e+00,\n",
      "        0.00000000e+00]), array([  0.        ,  -0.1975184 ,  -0.93005255,  -0.9036862 ,\n",
      "        -1.03208158,  -0.90147661,  -2.26845425,  -4.37467371,\n",
      "        -3.92343887,  -4.8283865 ,  -3.17889224,  -2.35054615,\n",
      "        -0.85071456,  -0.61935377,  -1.92074354,  -0.52228978,\n",
      "        -0.89888287,  -0.74605283,  -0.83104798,  -2.98062704,\n",
      "        -4.        ,  -4.78829249,  -3.68624269,  -6.31073507,\n",
      "        -6.18878367,  -4.60261509,  -3.09132956,  -2.07009402,\n",
      "        -0.99937077,  -3.58656142,  -4.35240631,  -7.67609018,\n",
      "       -10.13830286, -10.84513252, -11.35431471, -10.67944349,\n",
      "       -11.59300845, -15.44128932, -12.67326125, -14.54792482,\n",
      "       -12.8       , -12.26820642, -11.81213056, -12.20791757,\n",
      "       -12.34348769, -14.11882965, -11.02432391,  -8.66206817,\n",
      "        -7.55363687,  -7.9049958 , -10.57167974, -11.16946731,\n",
      "       -11.01160719,  -9.21498696,  -6.28229485,  -5.17790767,\n",
      "        -5.73241419,  -5.52785001,  -4.01437786,  -2.11434688,\n",
      "        -1.        ,  -1.39084199,   0.09437218,  -0.3249515 ,\n",
      "         2.29897386,   3.23691108,   3.07350234,   4.79693259,\n",
      "         5.88724384,   2.75099675,   0.47541216,  -2.30996389,\n",
      "        -3.60439096,  -6.53342346,  -6.37094694,  -2.85000559,\n",
      "        -5.84462331,  -5.46001707,  -5.37288301,  -4.58895217,\n",
      "        -6.5       ,  -7.00808394,  -7.76784971,  -7.10618437,\n",
      "        -6.66391028,  -7.52938267,  -4.79365847,  -5.22010746,\n",
      "        -8.30669741,  -9.28687648,  -5.72872056,  -7.21026738,\n",
      "        -6.93181731,  -5.23047324,  -2.21071181,  -1.90812511,\n",
      "        -1.82068257,  -1.61268187,  -1.16565393,  -1.87971391,\n",
      "         0.        ]), array([ 0.00000000e+00, -1.06589233e+00, -2.93223504e+00, -4.50777740e+00,\n",
      "       -6.70078898e+00, -6.36123112e+00, -7.20026093e+00, -8.79012839e+00,\n",
      "       -5.64600490e+00, -4.68145371e+00, -4.98420167e+00, -5.28223619e+00,\n",
      "       -4.21611675e+00, -3.02900967e+00, -4.45600030e+00, -4.83959621e+00,\n",
      "       -3.63095513e+00, -4.99692174e+00, -4.82513792e+00, -6.28545898e+00,\n",
      "       -4.00000000e+00, -4.61884196e+00, -2.63334472e+00, -1.39457798e+00,\n",
      "       -1.71032826e+00,  8.03544690e-03, -2.29644891e+00, -1.38861091e+00,\n",
      "       -4.84410308e+00, -6.51891455e+00, -6.93650160e+00, -4.31939389e+00,\n",
      "       -5.05703453e+00, -4.25732911e+00, -6.59019633e+00, -8.53179610e+00,\n",
      "       -8.62529990e+00, -6.90911694e+00, -9.77227471e+00, -9.60524665e+00,\n",
      "       -1.28000000e+01, -1.14270054e+01, -1.03787446e+01, -9.67863435e+00,\n",
      "       -9.52270724e+00, -7.77040500e+00, -6.84032474e+00, -6.10808312e+00,\n",
      "       -4.35497443e+00, -3.25884451e+00, -1.24425203e+00, -4.97369991e-01,\n",
      "        4.73294189e-01, -1.42066346e-01, -5.34412693e+00, -4.48008966e+00,\n",
      "       -2.46149344e+00, -2.21851531e+00, -1.70894561e+00,  4.76676022e-02,\n",
      "       -1.00000000e+00, -7.93777970e-01, -1.95261337e-01, -2.26267540e+00,\n",
      "       -1.45713084e+00,  4.81724710e-01, -6.29604837e-01, -2.09743700e+00,\n",
      "       -8.28882910e-01, -2.83042138e+00, -2.34122211e+00, -2.28783890e+00,\n",
      "       -4.15444923e+00, -3.43664429e+00, -2.31811477e-01,  9.89578460e-01,\n",
      "       -2.96413036e+00, -5.61647642e+00, -4.55329799e+00, -5.17670259e+00,\n",
      "       -6.50000000e+00, -6.42366194e+00, -6.65464468e+00, -6.89006613e+00,\n",
      "       -6.12750381e+00, -5.13067565e+00, -4.19683724e+00, -4.92670146e+00,\n",
      "       -6.10221281e+00, -4.85232549e+00, -3.51128404e+00, -5.29028104e+00,\n",
      "       -3.44970336e+00, -2.62176156e+00, -5.05589962e+00, -4.97311381e+00,\n",
      "       -3.13654053e+00, -3.13217060e+00, -2.11457132e+00, -1.88675895e+00,\n",
      "        0.00000000e+00]), array([  0.        ,   0.74719387,   2.98184828,   3.60383537,\n",
      "         2.03471637,   2.17049956,   2.96723895,   0.23741689,\n",
      "        -1.83873788,  -4.57643647,  -6.78445595,  -7.25621025,\n",
      "        -4.98979702,  -5.96750528,  -7.71467411,  -9.01542436,\n",
      "        -5.13148585,  -5.05373979,  -6.04493401,  -4.52750119,\n",
      "        -4.        ,  -2.26052484,  -3.08582074,  -0.837697  ,\n",
      "        -2.21132423,  -3.77621207,  -5.43204796,  -3.94133795,\n",
      "        -4.09322725,  -4.33358277,  -6.66050212,  -8.15312682,\n",
      "        -9.56437403,  -9.57421043, -10.19509637, -11.11317875,\n",
      "       -10.87242905, -10.8916505 , -11.1268884 , -13.95812644,\n",
      "       -12.8       , -14.63562657, -13.08221783, -11.16041016,\n",
      "        -9.96008018,  -8.81353901,  -7.82889364,  -5.88030748,\n",
      "        -4.59805912,  -3.88302489,  -4.86209066,  -3.64991963,\n",
      "        -5.97649619,  -3.36982035,  -2.42389661,  -1.21340991,\n",
      "        -1.33200094,  -0.26961124,   0.35549149,   0.28049183,\n",
      "        -1.        ,  -0.02140729,   0.75997835,   1.05293439,\n",
      "        -0.4910773 ,  -0.83397408,   1.00015158,   1.45957579,\n",
      "        -0.83484605,  -1.28260779,  -2.45076094,  -2.20021271,\n",
      "        -1.75177322,  -2.09345408,  -1.64582851,  -3.00819237,\n",
      "        -4.55885854,  -5.04312724,  -5.22170667,  -5.933094  ,\n",
      "        -6.5       ,  -6.07138966,  -8.00724463,  -7.39010886,\n",
      "       -10.16421504,  -8.3408466 ,  -9.70667541, -11.16685869,\n",
      "       -10.59875728,  -7.63362187,  -5.80492268,  -5.56456642,\n",
      "        -4.74210893,  -4.63609413,  -5.592791  ,  -4.45969544,\n",
      "        -2.76916349,  -0.37433371,   1.74692606,  -0.6975508 ,\n",
      "         0.        ]), array([  0.        ,  -2.08468112,   0.60387415,   1.09314538,\n",
      "        -0.46957791,  -3.21541086,  -2.7833009 ,  -2.0814607 ,\n",
      "        -3.43541009,  -3.68174907,  -2.7357974 ,  -1.43242795,\n",
      "        -2.80500158,  -0.79896095,  -0.85427926,  -2.73825897,\n",
      "        -2.20817785,  -4.1010236 ,  -2.49204273,  -3.80546765,\n",
      "        -4.        ,  -4.11193761,  -4.19145221,  -5.01952641,\n",
      "        -7.12688349,  -9.76243747, -10.14001925, -10.53767942,\n",
      "       -13.555934  , -12.06083189, -12.07546338, -10.80944167,\n",
      "        -9.51625681,  -7.31859049,  -6.68001265,  -6.28956005,\n",
      "        -8.54953969,  -8.65946671, -10.3330737 , -10.91083206,\n",
      "       -12.8       , -13.31304265, -13.24753575, -11.18285109,\n",
      "        -9.48881413,  -8.76176183,  -5.02690826,  -5.00661957,\n",
      "        -6.99675617,  -4.75464865,  -3.3971827 ,  -2.34127539,\n",
      "         0.40113654,  -0.52606216,  -1.20294031,  -0.56200881,\n",
      "         0.35701477,   0.5664293 ,  -0.28533723,   0.46183312,\n",
      "        -1.        ,  -3.62079916,  -3.27466493,  -2.82322538,\n",
      "        -4.73549384,  -4.44532859,  -8.51799507,  -8.80516785,\n",
      "        -4.044764  ,  -3.47837957,  -2.29356324,  -4.0477741 ,\n",
      "        -1.48620689,  -5.40929036,  -3.48845297,  -1.22732526,\n",
      "        -1.72550604,  -4.51216234,  -3.25779777,  -5.69759548,\n",
      "        -6.5       ,  -6.10812738,  -5.16748837,  -5.42990957,\n",
      "        -6.56857798,  -6.46581219,  -3.44431479,  -1.07302196,\n",
      "        -1.58919231,  -2.59798869,  -1.87550103,  -1.80240311,\n",
      "        -4.98907849,  -5.16820226,  -7.12651496,  -7.02566566,\n",
      "        -4.93055945,  -1.44115774,  -0.28724166,  -1.41939934,\n",
      "         0.        ])]\n"
     ]
    }
   ],
   "source": [
    "def nsimul(A, n = 1):\n",
    "    L1 = cholesky(A)\n",
    "    L = np.array([np.array(Li) for Li in L1])\n",
    "    m = Esp_Z2sachantZ1\n",
    "    \n",
    "    Liste_res = []\n",
    "    \n",
    "    for i in range(n):\n",
    "        Y = simul_Y()\n",
    "        res = np.add(m, L.dot(Y))\n",
    "        for i in range(6):\n",
    "            res = np.insert(res, observation_indexes[i], depth[i])\n",
    "        Liste_res.append(res)\n",
    "        \n",
    "    return Liste_res\n",
    "\n",
    "l = nsimul(C_Z2sachantZ1, 20)\n",
    "print(l)\n",
    "        "
   ]
  },
  {
   "cell_type": "code",
   "execution_count": 11,
   "metadata": {},
   "outputs": [],
   "source": [
    "def longueur(Z, Delta):\n",
    "    length = 0\n",
    "    for i in range(len(Z)-1):\n",
    "        length += math.sqrt(Delta**2+(Z[i+1]-Z[i])**2)\n",
    "    return length"
   ]
  },
  {
   "cell_type": "code",
   "execution_count": 12,
   "metadata": {},
   "outputs": [
    {
     "name": "stdout",
     "output_type": "stream",
     "text": [
      "Longueur simulation =  522.5217857300138\n",
      "Longueur espérance =  501.6468416918411\n",
      "Ecart type =  21.10762365667624\n",
      "Ecart relatif =  0.04161282859425651\n"
     ]
    }
   ],
   "source": [
    "def compare(nbsimul, Esp = Esp_Z2sachantZ1):\n",
    "    for i in range(6):\n",
    "        Esp = np.insert(Esp, observation_indexes[i], depth[i])\n",
    "        \n",
    "    LengthEsp = longueur(Esp, Delta)\n",
    "    l = nsimul(C_Z2sachantZ1, nbsimul)\n",
    "    EcartType = 0\n",
    "    Length = 0\n",
    "    for simul in l:\n",
    "        EcartType += (longueur(simul, Delta)-LengthEsp)**2\n",
    "        Length +=  longueur(simul, Delta)\n",
    "    Length = Length/nbsimul\n",
    "    EcartType = np.sqrt(EcartType/nbsimul)\n",
    "    EcartRelatif = (Length - LengthEsp)/LengthEsp\n",
    "    print(\"Longueur simulation = \", Length)\n",
    "    print(\"Longueur espérance = \", LengthEsp)\n",
    "    print(\"Ecart type = \", EcartType)\n",
    "    print(\"Ecart relatif = \", EcartRelatif)\n",
    "\n",
    "compare(100)"
   ]
  },
  {
   "cell_type": "markdown",
   "metadata": {},
   "source": [
    "On retrouve même pour des grands nombres de simulations (voir plus bas) un écart constant d'environ 20m entre la longueur obtenue par la moyenne des longueurs simulées et la longueur obtenue par calcul de l'espérance conditionnelle. Cela s'explique par le fait que du fait de la nature aléatoire de la simulation, le câble a tendance à rapidement monter puis descendre ce qui augmente \"artificiellement\" sa longueur, contrairement à la longueur obtenue par calcul de l'espérance conditionnelle qui modélise un câble plus lisse."
   ]
  },
  {
   "cell_type": "code",
   "execution_count": 13,
   "metadata": {},
   "outputs": [
    {
     "name": "stdout",
     "output_type": "stream",
     "text": [
      "Graphiquement, il semblerait que la moyenne des longueurs converge vers une valeur proche de M_100 = 522.997\n"
     ]
    },
    {
     "data": {
      "image/png": "[encoded data removed]",
      "text/plain": [
       "<Figure size 432x288 with 1 Axes>"
      ]
     },
     "metadata": {
      "needs_background": "light"
     },
     "output_type": "display_data"
    }
   ],
   "source": [
    "l = nsimul(C_Z2sachantZ1, 100)\n",
    "Longueurs = []\n",
    "for simul in l:\n",
    "\tLongueurs.append(longueur(simul, Delta))\n",
    "    \n",
    "def Moyenne(Long, ax = None) :\n",
    "    NB = len(Long)\n",
    "    \n",
    "    NSimulations = [k for k in range(1, NB+1)]\n",
    "    Moyennes = [np.average(Long[:i]) for i in range(1, NB+1)]\n",
    "    if ax == None :\n",
    "        ax = plt.gca()\n",
    "    ax.set_xlabel(\"Nombre de simulations\")\n",
    "    ax.set_ylabel(\"Longueur moyenne\")\n",
    "    ax.scatter(NSimulations, Moyennes)\n",
    "    print(f\"Graphiquement, il semblerait que la moyenne des longueurs converge vers une valeur proche de M_{NB} = {np.round(Moyennes[-1], 3)}m\")\n",
    "    \n",
    "Moyenne(Longueurs)"
   ]
  },
  {
   "cell_type": "code",
   "execution_count": 14,
   "metadata": {},
   "outputs": [
    {
     "data": {
      "image/png": "[encoded data removed]",
      "text/plain": [
       "<Figure size 432x288 with 1 Axes>"
      ]
     },
     "metadata": {
      "needs_background": "light"
     },
     "output_type": "display_data"
    }
   ],
   "source": [
    "def histogramme(L, ax = None) :\n",
    "    N = len(L)\n",
    "    num_bins = min(int(np.sqrt(N)), 100)\n",
    "    if ax == None :\n",
    "        ax = plt.gca()\n",
    "    n, bins, patches = ax.hist(L, num_bins, facecolor='lightblue')\n",
    "    ax.set_xlabel(\"Longueur de câble simulée\")\n",
    "    ax.set_title(f\"Histogramme obtenu pour {N} simulations\")\n",
    "\n",
    "histogramme(Longueurs)"
   ]
  },
  {
   "cell_type": "markdown",
   "metadata": {},
   "source": [
    "#### 12\n",
    "\n",
    "On propose les deux implémentations suivantes : l'une par estimation avec l'allure de l'approximation gaussienne de la longueur, l'autre par le calcul à l'aide d'une formule qui permet d'estimer la moyenne de la longueur du câble."
   ]
  },
  {
   "cell_type": "code",
   "execution_count": 27,
   "metadata": {},
   "outputs": [
    {
     "name": "stdout",
     "output_type": "stream",
     "text": [
      "[518.0266545649262, 528.0273088346016]\n"
     ]
    },
    {
     "data": {
      "image/png": "[encoded data removed]",
      "text/plain": [
       "<Figure size 432x288 with 1 Axes>"
      ]
     },
     "metadata": {
      "needs_background": "light"
     },
     "output_type": "display_data"
    }
   ],
   "source": [
    "from scipy.stats.kde import gaussian_kde\n",
    "from numpy import linspace\n",
    "\n",
    "\n",
    "def ApproxGaussienne(L):\n",
    "\n",
    "    kde = gaussian_kde(L)\n",
    "    interv_definition = linspace(min(L), max(L), 200)\n",
    "    y = kde(interv_definition)\n",
    "    fig = plt.figure()\n",
    "    plt.plot( interv_definition, y )\n",
    "    return interv_definition, y\n",
    "\n",
    "def IntervConfiance95_1(L):\n",
    "    x, y = ApproxGaussienne(L)\n",
    "    I_conf = []\n",
    "    to_remove = []\n",
    "    for i in range(len(y)):\n",
    "        if y[i] <= 0.025:\n",
    "            to_remove.append(i)\n",
    "            \n",
    "    in_interval = [x[i] for i in range(len(y)) if not (i in to_remove)]\n",
    "    \n",
    "    I_conf.append(min(in_interval))\n",
    "    I_conf.append(max(in_interval))\n",
    "\n",
    "    return I_conf\n",
    "\n",
    "I1 = IntervConfiance95_1(Longueurs)\n",
    "print(I1)"
   ]
  },
  {
   "cell_type": "code",
   "execution_count": 45,
   "metadata": {},
   "outputs": [
    {
     "name": "stdout",
     "output_type": "stream",
     "text": [
      "[522.4218384730697, 522.4583915437253]\n"
     ]
    }
   ],
   "source": [
    "def mean_and_var(L):\n",
    "    m = np.mean(L)\n",
    "    L_ecart = np.add(L, -m)\n",
    "    L_ecart = np.square(L_ecart)\n",
    "    var = np.mean(L_ecart)\n",
    "\n",
    "    return m, var\n",
    "\n",
    "def IntervConfiance95_2(L):\n",
    "    m, V = mean_and_var(L)\n",
    "    n = len(L)\n",
    "    sigma = np.sqrt(V)\n",
    "    I_conf = [m - 2*(sigma/np.sqrt(n)), m + 2*(sigma/np.sqrt(n))]\n",
    "\n",
    "    return I_conf\n",
    "\n",
    "I2 = IntervConfiance95_2(Longueurs)\n",
    "print(I2)"
   ]
  },
  {
   "cell_type": "markdown",
   "metadata": {},
   "source": [
    "Dans les deux cas, on vérifie effectivement que les simulations précédentes basées sur une approximation en loi normale sont quasiment toujours comprises dans ces intervalles (même si leur nature est différente)"
   ]
  },
  {
   "cell_type": "code",
   "execution_count": 32,
   "metadata": {},
   "outputs": [
    {
     "name": "stdout",
     "output_type": "stream",
     "text": [
      "0.23376902707836525\n"
     ]
    }
   ],
   "source": [
    "from scipy.integrate import quad\n",
    "\n",
    "def proba_depasse(L, lmax = 525):\n",
    "    m, V = np.mean(L), var(L)\n",
    "    sigma = np.sqrt(V)\n",
    "\n",
    "    def f(l):\n",
    "        return ( 1/(sigma * np.sqrt(2*np.pi)) ) * np.exp(-0.5 * ( (l - m)/sigma )**2 )\n",
    "    \n",
    "    P = quad(f, lmax, np.inf)[0]\n",
    "\n",
    "    return P\n",
    "\n",
    "P = proba_depasse(Longueurs)\n",
    "print(P)"
   ]
  },
  {
   "cell_type": "markdown",
   "metadata": {},
   "source": [
    "#### 14"
   ]
  },
  {
   "cell_type": "code",
   "execution_count": 46,
   "metadata": {},
   "outputs": [
    {
     "name": "stdout",
     "output_type": "stream",
     "text": [
      "Longueur simulation =  522.4943363739275\n",
      "Longueur espérance =  501.6468416918411\n",
      "Ecart type =  21.04424873586708\n",
      "Ecart relatif =  0.04155811010745463\n",
      "Graphiquement, il semblerait que la moyenne des longueurs converge vers une valeur proche de M_1000 = 522.591\n"
     ]
    },
    {
     "data": {
      "image/png": "[encoded data removed]",
      "text/plain": [
       "<Figure size 432x288 with 1 Axes>"
      ]
     },
     "metadata": {
      "needs_background": "light"
     },
     "output_type": "display_data"
    }
   ],
   "source": [
    "n = 1000\n",
    "\n",
    "compare(n)\n",
    "\n",
    "l = nsimul(C_Z2sachantZ1, n)\n",
    "\n",
    "Longueurs = []\n",
    "for simul in l:\n",
    "\tLongueurs.append(longueur(simul, Delta))\n",
    "    \n",
    "Moyenne(Longueurs)"
   ]
  },
  {
   "cell_type": "code",
   "execution_count": 47,
   "metadata": {},
   "outputs": [
    {
     "data": {
      "image/png": "[encoded data removed]",
      "text/plain": [
       "<Figure size 432x288 with 1 Axes>"
      ]
     },
     "metadata": {
      "needs_background": "light"
     },
     "output_type": "display_data"
    }
   ],
   "source": [
    "histogramme(Longueurs)"
   ]
  },
  {
   "cell_type": "code",
   "execution_count": 48,
   "metadata": {},
   "outputs": [
    {
     "name": "stdout",
     "output_type": "stream",
     "text": [
      "[517.2688074831393, 528.3587389257779]\n",
      "[522.4057565566624, 522.7772057133878]\n"
     ]
    },
    {
     "data": {
      "image/png": "[encoded data removed]",
      "text/plain": [
       "<Figure size 432x288 with 1 Axes>"
      ]
     },
     "metadata": {
      "needs_background": "light"
     },
     "output_type": "display_data"
    }
   ],
   "source": [
    "I1 = IntervConfiance95_1(Longueurs)\n",
    "print(I1)\n",
    "\n",
    "I2 = IntervConfiance95_2(Longueurs)\n",
    "print(I2)"
   ]
  },
  {
   "cell_type": "code",
   "execution_count": 49,
   "metadata": {},
   "outputs": [
    {
     "name": "stdout",
     "output_type": "stream",
     "text": [
      "0.20605594777213193\n"
     ]
    }
   ],
   "source": [
    "P = proba_depasse(Longueurs)\n",
    "print(P)"
   ]
  },
  {
   "cell_type": "code",
   "execution_count": 50,
   "metadata": {},
   "outputs": [
    {
     "name": "stdout",
     "output_type": "stream",
     "text": [
      "Longueur simulation =  522.4204961755916\n",
      "Longueur espérance =  501.6468416918411\n",
      "Ecart type =  20.977671049208848\n",
      "Ecart relatif =  0.0414109145264222\n",
      "Graphiquement, il semblerait que la moyenne des longueurs converge vers une valeur proche de M_10000 = 522.421\n"
     ]
    },
    {
     "data": {
      "image/png": "[encoded data removed]",
      "text/plain": [
       "<Figure size 432x288 with 1 Axes>"
      ]
     },
     "metadata": {
      "needs_background": "light"
     },
     "output_type": "display_data"
    }
   ],
   "source": [
    "n = 10000\n",
    "\n",
    "compare(n)\n",
    "\n",
    "l = nsimul(C_Z2sachantZ1, n)\n",
    "\n",
    "Longueurs = []\n",
    "for simul in l:\n",
    "\tLongueurs.append(longueur(simul, Delta))\n",
    "    \n",
    "Moyenne(Longueurs)"
   ]
  },
  {
   "cell_type": "code",
   "execution_count": 51,
   "metadata": {},
   "outputs": [
    {
     "data": {
      "image/png": "[encoded data removed]",
      "text/plain": [
       "<Figure size 432x288 with 1 Axes>"
      ]
     },
     "metadata": {
      "needs_background": "light"
     },
     "output_type": "display_data"
    }
   ],
   "source": [
    "histogramme(Longueurs)"
   ]
  },
  {
   "cell_type": "code",
   "execution_count": 52,
   "metadata": {},
   "outputs": [
    {
     "name": "stdout",
     "output_type": "stream",
     "text": [
      "[517.1903804483142, 527.8088892158138]\n",
      "[522.3630073791347, 522.4795457366182]\n"
     ]
    },
    {
     "data": {
      "image/png": "[encoded data removed]",
      "text/plain": [
       "<Figure size 432x288 with 1 Axes>"
      ]
     },
     "metadata": {
      "needs_background": "light"
     },
     "output_type": "display_data"
    }
   ],
   "source": [
    "I1 = IntervConfiance95_1(Longueurs)\n",
    "print(I1)\n",
    "\n",
    "I2 = IntervConfiance95_2(Longueurs)\n",
    "print(I2)"
   ]
  },
  {
   "cell_type": "code",
   "execution_count": 53,
   "metadata": {},
   "outputs": [
    {
     "name": "stdout",
     "output_type": "stream",
     "text": [
      "0.18804941197758535\n"
     ]
    }
   ],
   "source": [
    "P = proba_depasse(Longueurs)\n",
    "print(P)"
   ]
  },
  {
   "cell_type": "code",
   "execution_count": 54,
   "metadata": {},
   "outputs": [
    {
     "name": "stdout",
     "output_type": "stream",
     "text": [
      "Longueur simulation =  522.4460780923695\n",
      "Longueur espérance =  501.6468416918411\n",
      "Ecart type =  20.998875483877942\n",
      "Ecart relatif =  0.04146191039573066\n",
      "Graphiquement, il semblerait que la moyenne des longueurs converge vers une valeur proche de M_100000 = 522.436\n"
     ]
    },
    {
     "data": {
      "image/png": "[encoded data removed]",
      "text/plain": [
       "<Figure size 432x288 with 1 Axes>"
      ]
     },
     "metadata": {
      "needs_background": "light"
     },
     "output_type": "display_data"
    }
   ],
   "source": [
    "n = 100000\n",
    "\n",
    "compare(n)\n",
    "\n",
    "l = nsimul(C_Z2sachantZ1, n)\n",
    "\n",
    "Longueurs = []\n",
    "for simul in l:\n",
    "\tLongueurs.append(longueur(simul, Delta))\n",
    "    \n",
    "Moyenne(Longueurs)"
   ]
  },
  {
   "cell_type": "code",
   "execution_count": 55,
   "metadata": {},
   "outputs": [
    {
     "data": {
      "image/png": "[encoded data removed]",
      "text/plain": [
       "<Figure size 432x288 with 1 Axes>"
      ]
     },
     "metadata": {
      "needs_background": "light"
     },
     "output_type": "display_data"
    }
   ],
   "source": [
    "histogramme(Longueurs)"
   ]
  },
  {
   "cell_type": "code",
   "execution_count": 56,
   "metadata": {},
   "outputs": [
    {
     "name": "stdout",
     "output_type": "stream",
     "text": [
      "[517.1651492146065, 527.6947130916994]\n",
      "[522.4180031844758, 522.4545128139239]\n"
     ]
    },
    {
     "data": {
      "image/png": "[encoded data removed]",
      "text/plain": [
       "<Figure size 432x288 with 1 Axes>"
      ]
     },
     "metadata": {
      "needs_background": "light"
     },
     "output_type": "display_data"
    }
   ],
   "source": [
    "I1 = IntervConfiance95_1(Longueurs)\n",
    "print(I1)\n",
    "\n",
    "I2 = IntervConfiance95_2(Longueurs)\n",
    "print(I2)"
   ]
  },
  {
   "cell_type": "code",
   "execution_count": 57,
   "metadata": {},
   "outputs": [
    {
     "name": "stdout",
     "output_type": "stream",
     "text": [
      "0.18720772641831027\n"
     ]
    }
   ],
   "source": [
    "P = proba_depasse(Longueurs)\n",
    "print(P)"
   ]
  },
  {
   "cell_type": "markdown",
   "metadata": {},
   "source": [
    "## Conclusion\n",
    "\n",
    "Comme nous pouvons le voir dans cette dernière question, on observe clairement que lorsque le nombre de simulation augmente, on converge vers une loi normale pour les simulations de longueur du câble en vertu du théorème central limite. \n",
    "\n",
    "Les approximations en loi normale sont donc naturellement plus précises et appropriées lorsque le nombre de simulations est élevé.\n",
    "\n",
    "Cependant, la nature aléatoire de ces simulations a tendance à donner une allure de câble \"tordu\" car les simulations ont tendance à donner pour deux positions successives une valeur haute et une valeur basse, ce qui augmente la longueur du câble. Pour remédier à cela, il faudrait augmenter la résolution de calcul, c'est-à-dire augmenter le paramètre $N$, ce qui impliquera également des temps de calcul augmentés (alors qu'ils sont déjà relativement longs pour des valeurs élevées de nombre de simulations). Malgré ce facteur, nous obtenons une estimation convenable de la longueur du câble en ne connaissant la profondeur qu'en six points et avec une méthode de simulation plutôt basique (pas de prise en compte du fait que la profondeur est toujours négative, faible résolution...)"
   ]
  }
 ],
 "metadata": {
  "kernelspec": {
   "display_name": "Python 3",
   "language": "python",
   "name": "python3"
  },
  "language_info": {
   "codemirror_mode": {
    "name": "ipython",
    "version": 3
   },
   "file_extension": ".py",
   "mimetype": "text/x-python",
   "name": "python",
   "nbconvert_exporter": "python",
   "pygments_lexer": "ipython3",
   "version": "3.7.4"
  }
 },
 "nbformat": 4,
 "nbformat_minor": 2
}
