{
 "cells": [
  {
   "cell_type": "markdown",
   "metadata": {},
   "source": [
    "# Projet numérique III : câble sous-marin"
   ]
  },
  {
   "cell_type": "markdown",
   "metadata": {},
   "source": [
    "#### Louis Blazejczak, Emmanuel Gardin"
   ]
  },
  {
   "cell_type": "markdown",
   "metadata": {},
   "source": [
    "## Questions théoriques"
   ]
  },
  {
   "cell_type": "markdown",
   "metadata": {},
   "source": [
    "#### 1.\n",
    "Le théorème central limite nous permet d'affirmer la convergence de la variable aléatoire constituée de la moyenne arithmétique des variables simulant les situations.\n",
    "\n",
    "#### 2.\n",
    "\n",
    "On considère le vecteur gaussien $Z_{1} = (Z(x_{j1}), Z(x_{j2}), ..., Z(x_{jn}))$ et le vecteur $Z_{2}$ des composantes de $Z$ qui ne sont pas connues. On réordonne $Z$ de manière à ce que les termes de $Z1$ soient les n derniers termes de Z.\n",
    "On note $C$ la matrice de covariance définie positive de $Z$.\n",
    "$C$ peut se décomposer en blocs :\n",
    "\\begin{align}\n",
    "C  = \n",
    "\\begin{pmatrix} \n",
    "C_{Z_{2}} & C_{Z_{2},Z_{1}} \\\\ C_{Z_{1},Z_{2}} & C_{Z_{1}}\n",
    "\\end{pmatrix}\n",
    "\\end{align}\n",
    "\n",
    "La loi conditionnelle du vecteur des composantes de  $Z$ correspondant aux points de discrétisation sans observation connaissant les valeurs prises par les composantes aux sites d'observation s'écrit alors :\n",
    "\n",
    "\n",
    "$f_{Z_{2}|Z_{1} = z_{1}}(z_{2}) = \\frac{1}{(2 \\pi)^{n/2} \\sqrt{det(CS_{Z_{2}})}}exp(- \\frac{1}{2}(z_{2}- \\Psi(z_1))^{t}CS_{Z_{2}}^{-1}(z_{2}- \\Psi(z_1)))$\n",
    "\n",
    "où $CS_{Z_{2}}$ est le complément de Schur du bloc $C_{Z_{2}}$ : $CS_{Z_{2}} = C_{Z_{2}} - C_{Z_{2},Z_{1}}C_{Z_{1}}^{-1}C_{Z_{1},Z_{2}}$ et $\\Psi$ est l'espérance conditionnelle du vecteur des sites sans observation $Z_{2}$ sachant $Z_{1}$\n",
    "\n",
    "#### 3.\n",
    "\n",
    "Soit $Y = (Y_{1}, ..., Y_{p})$ un vecteur de composantes gaussiennes indépendantes, toutes d'espérance nulle et de variance 1. $Z = m + RY$ où $R$ est une matrice $p \\times p$ et $m$ est un vecteur de taille $p$.\n",
    "Alors $Z$ est gaussien, comme combinaison linéaire de variables gaussiennes, $E(Z) = E(m + RY) = m$ et $V(Z) = E((RY)^{2}) = RI_{p}R^{t} = RR^{t}$. On note $C = RR^{t}$.\n",
    "\n",
    "La loi $f_{Z}$ de $Z$ est alors :\n",
    "\n",
    "\\begin{equation}\n",
    "f_{Z}(z) = \\frac{1}{(2 \\pi)^{p/2} \\sqrt{det(C)}}exp(- \\frac{1}{2}(z-m)^{t}C^{-1}(x-m))\n",
    "\\end{equation}\n",
    "\n"
   ]
  },
  {
   "cell_type": "code",
   "execution_count": null,
   "metadata": {},
   "outputs": [],
   "source": []
  }
 ],
 "metadata": {
  "kernelspec": {
   "display_name": "Python 3",
   "language": "python",
   "name": "python3"
  },
  "language_info": {
   "codemirror_mode": {
    "name": "ipython",
    "version": 3
   },
   "file_extension": ".py",
   "mimetype": "text/x-python",
   "name": "python",
   "nbconvert_exporter": "python",
   "pygments_lexer": "ipython3",
   "version": "3.7.4"
  }
 },
 "nbformat": 4,
 "nbformat_minor": 2
}
