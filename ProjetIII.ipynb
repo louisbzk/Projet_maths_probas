{
 "cells": [
  {
   "cell_type": "markdown",
   "metadata": {},
   "source": [
    "# Projet numérique III : câble sous-marin"
   ]
  },
  {
   "cell_type": "markdown",
   "metadata": {},
   "source": [
    "#### Louis Blazejczak, Emmanuel Gardin"
   ]
  },
  {
   "cell_type": "markdown",
   "metadata": {},
   "source": [
    "## Questions théoriques"
   ]
  },
  {
   "cell_type": "markdown",
   "metadata": {},
   "source": [
    "#### 1.\n",
    "La loi forte des grands nombres nous autorise à estimer l'espérance conditionnelle par la moyenne empirique de simulations conditionnelles. \n",
    "\n",
    "#### 2.\n",
    "\n",
    "On considère le vecteur gaussien $Z_{1} = (Z(x_{j1}), Z(x_{j2}), ..., Z(x_{jn}))$ et le vecteur $Z_{2}$ des composantes de $Z$ qui ne sont pas connues. On réordonne $Z$ de manière à ce que les termes de $Z1$ soient les n derniers termes de Z.\n",
    "On note $C$ la matrice de covariance définie positive de $Z$.\n",
    "$C$ peut se décomposer en blocs :\n",
    "\\begin{align}\n",
    "C  = \n",
    "\\begin{pmatrix} \n",
    "C_{Z_{2}} & C_{Z_{2},Z_{1}} \\\\ C_{Z_{1},Z_{2}} & C_{Z_{1}}\n",
    "\\end{pmatrix}\n",
    "\\end{align}\n",
    "\n",
    "La loi conditionnelle du vecteur des composantes de  $Z$ correspondant aux points de discrétisation sans observation connaissant les valeurs prises par les composantes aux sites d'observation s'écrit alors :\n",
    "\n",
    "\n",
    "$f_{Z_{2}|Z_{1} = z_{1}}(z_{2}) = \\frac{1}{(2 \\pi)^{n/2} \\sqrt{det(CS_{Z_{2}})}}exp\\left(- \\frac{1}{2}\\left(z_{2}- \\Psi(z_1)\\right)^{t}CS_{Z_{2}}^{-1}\\left(z_{2}- \\Psi(z_1)\\right)\\right)$\n",
    "\n",
    "où $CS_{Z_{2}}$ est le complément de Schur du bloc $C_{Z_{2}}$ : $CS_{Z_{2}} = C_{Z_{2}} - C_{Z_{2},Z_{1}}C_{Z_{1}}^{-1}C_{Z_{1},Z_{2}}$ et $\\Psi$ est l'espérance conditionnelle du vecteur des sites sans observation $Z_{2}$ sachant $Z_{1}$\n",
    "\n",
    "#### 3.\n",
    "\n",
    "Soit $Y = (Y_{1}, ..., Y_{p})$ un vecteur de composantes gaussiennes indépendantes, toutes d'espérance nulle et de variance 1. $Z = m + RY$ où $R$ est une matrice $p \\times p$ et $m$ est un vecteur de taille $p$.\n",
    "Alors $Z$ est gaussien, comme combinaison linéaire de variables gaussiennes, $E(Z) = E(m + RY) = m$ et $V(Z) = E((RY)^{2}) = RI_{p}R^{T} = RR^{T}$. On note $C = RR^{t}$.\n",
    "\n",
    "La loi $f_{Z}$ de $Z$ est alors :\n",
    "\n",
    "\\begin{equation}\n",
    "f_{Z}(z) = \\frac{1}{(2 \\pi)^{p/2} \\sqrt{det(C)}}exp(- \\frac{1}{2}(z-m)^{t}C^{-1}(x-m))\n",
    "\\end{equation}\n",
    "\n",
    "#### 4.\n",
    "\n",
    "On souhaite simuler un vecteur gaussien $Z = (Z(x_{0}), ..., Z(x_{p}))$ à valeurs dans ${\\rm I\\!R}^p$, d'espérance $m$ et de matrice de covariance $C$ définie positive données. D'après la question précédente, on peut simuler un vecteur gaussien quelconque à partir d'un vecteur gaussien $Y$ de composantes indépendantes, d'espérances nulles et de variance 1 si on peut trouver une matrice $R$ telle que $C = R \\times R^{T}$, car dans ce cas $Z$ a la même loi que $m + R \\times Y$. \n",
    "\n",
    "Or, $C$ étant symétrique définie positive, il existe une matrice $R$ vérifiant cela (en effet, le théorème spectral permet de diagonaliser $C = P \\Delta P^{T}$ en une matrice diagonale $\\Delta$ à coefficients diagonaux strictement positifs, on pose alors $R = P \\times \\sqrt{\\Delta}$ où $\\sqrt{\\Delta}$ est la matrice diagonale dont les coefficients sont les racines carrées des coefficients de $\\Delta$). Il est donc possible de simuler $Z$ à partir de la simulation de $Y$.\n",
    "\n",
    "L'algorithme de Cholesky permet de trouver une telle matrice $R$ qui est de plus triangulaire inférieure et qu'on appelle alors $L$ (pour Lower triangular matrix). Cet algorithme a l'avantage de ne pas avoir à connaître les valeurs propres de $C$.\n",
    "\n",
    "### Algorithme de Cholesky :\n",
    "\n",
    "Il s'agit d'un algorithme récursif qui débute avec $i = 1$ et $C^{(1)} = C$\n",
    "\n",
    "A l'étape $i$, la matrice $C^{(i)}$ est de la forme suivante :\n",
    "$C^{(i)}=\n",
    "\\begin{pmatrix}\n",
    "\\mathbf{I}_{i-1} & 0              & 0 \\\\\n",
    "0                & a_{i,i}        & \\mathbf{b}_{i}^{T} \\\\\n",
    "0                & \\mathbf{b}_{i} & \\mathbf{B}^{(i)}\n",
    "\\end{pmatrix},\n",
    "$\n",
    "où $I_{i-1}$ représente la matrice identité de taille $i - 1$.\n",
    "\n",
    "La matrice $L_{i}$ est définie par :\n",
    "\n",
    "$L_{i}=\n",
    "\\begin{pmatrix}\n",
    "I_{i-1} & 0                                  & 0 \\\\\n",
    "0                & \\sqrt{a_{i,i}}           & 0 \\\\\n",
    "0                & \\frac{1}{\\sqrt{a_{i,i}}} \\mathbf{b}_{i} & \\mathbf{I}_{n-i}\n",
    "\\end{pmatrix},\n",
    "$\n",
    "\n",
    "\n",
    "donc $C^{(i)}$ s'écrit : \n",
    "\n",
    "\n",
    "$C^{(i)} = L_{i} C^{(i+1)} L_{i}^{T}$\n",
    "\n",
    "\n",
    "où\n",
    "\n",
    "\n",
    "$C^{(i+1)}=\n",
    "\\begin{pmatrix}\n",
    "\\mathbf{I}_{i-1} & 0 & 0 \\\\\n",
    "0                & 1 & 0 \\\\\n",
    "0                & 0 & \\mathbf{B}^{(i)} - \\frac{1}{a_{i,i}} \\mathbf{b}_{i} \\mathbf{b}_{i}^{T}\n",
    "\\end{pmatrix}.$\n",
    "\n",
    "\n",
    "Après $p$ pas, nous obtenons $C^{p+1} = I_{p}$. La matrice $L$ cherchée est donc :\n",
    "\n",
    "\\begin{equation}\n",
    "L = L_{1}  L_{2}  ...  L_{p}\n",
    "\\end{equation}\n"
   ]
  },
  {
   "cell_type": "markdown",
   "metadata": {},
   "source": [
    "## Implémentation"
   ]
  },
  {
   "cell_type": "code",
   "execution_count": 44,
   "metadata": {},
   "outputs": [],
   "source": [
    "# Chargement des dépendances\n",
    "\n",
    "import numpy as np\n",
    "import math\n",
    "import matplotlib.pyplot as plt\n",
    "\n",
    "# Discrétisation\n",
    "\n",
    "A = 0\n",
    "B = 500\n",
    "N = 101\n",
    "Delta = (B-A)/(N-1)\n",
    "discretization_indexes = np.arange(N)\n",
    "discretization = discretization_indexes*Delta\n",
    "\n",
    "#Paramètres du modèle\n",
    "\n",
    "mu = -5\n",
    "a = 50\n",
    "sigma2 = 12\n",
    "\n",
    "# Données\n",
    "\n",
    "observation_indexes = [0, 20, 40, 60, 80, 100]\n",
    "depth = np.array([0, -4, -12.8, -1, -6.5, 0])\n",
    "\n",
    "# Indices des composantes correspondant aux observations et aux composantes non observées\n",
    "\n",
    "unknown_indexes = list(set(discretization_indexes)-set(observation_indexes))"
   ]
  },
  {
   "cell_type": "code",
   "execution_count": 45,
   "metadata": {},
   "outputs": [],
   "source": [
    "#1\n",
    "def cov(distance, a, sigma2):\n",
    "    covariance = np.zeros((101, 101))\n",
    "    for i in range(0, len(covariance)):\n",
    "        for j in range(0, len(covariance[0])):\n",
    "            covariance[i][j] = sigma2*math.exp(-abs(distance[i][j])/a)\n",
    "    return covariance"
   ]
  },
  {
   "cell_type": "code",
   "execution_count": 46,
   "metadata": {},
   "outputs": [],
   "source": [
    "#2\n",
    "distance = np.zeros((101, 101))\n",
    "for i in range(0, 101):\n",
    "    for j in range(0, 101):\n",
    "        distance[i][j] = abs((i-j)*Delta)"
   ]
  },
  {
   "cell_type": "code",
   "execution_count": 47,
   "metadata": {},
   "outputs": [
    {
     "name": "stdout",
     "output_type": "stream",
     "text": [
      "[[1.20000000e+01 1.08580490e+01 9.82476904e+00 ... 6.65419193e-04\n",
      "  6.02096185e-04 5.44799157e-04]\n",
      " [1.08580490e+01 1.20000000e+01 1.08580490e+01 ... 7.35401941e-04\n",
      "  6.65419193e-04 6.02096185e-04]\n",
      " [9.82476904e+00 1.08580490e+01 1.20000000e+01 ... 8.12744838e-04\n",
      "  7.35401941e-04 6.65419193e-04]\n",
      " ...\n",
      " [6.65419193e-04 7.35401941e-04 8.12744838e-04 ... 1.20000000e+01\n",
      "  1.08580490e+01 9.82476904e+00]\n",
      " [6.02096185e-04 6.65419193e-04 7.35401941e-04 ... 1.08580490e+01\n",
      "  1.20000000e+01 1.08580490e+01]\n",
      " [5.44799157e-04 6.02096185e-04 6.65419193e-04 ... 9.82476904e+00\n",
      "  1.08580490e+01 1.20000000e+01]]\n"
     ]
    }
   ],
   "source": [
    "#3\n",
    "C = cov(distance, a, sigma2)\n",
    "print(C)"
   ]
  },
  {
   "cell_type": "code",
   "execution_count": 48,
   "metadata": {},
   "outputs": [],
   "source": [
    "#4\n",
    "C_Z1, distanceZ1 = np.zeros((len(observation_indexes),len(observation_indexes))), np.zeros((len(observation_indexes),len(observation_indexes)))\n",
    "C_Z2, distanceZ2 = np.zeros((len(unknown_indexes),len(unknown_indexes))), np.zeros((len(unknown_indexes),len(unknown_indexes)))\n",
    "C_Z1_Z2, distanceZ1_Z2 = np.zeros((len(observation_indexes),len(unknown_indexes))), np.zeros((len(observation_indexes),len(unknown_indexes)))\n",
    "\n",
    "for i in range(len(observation_indexes)):\n",
    "    for j in range(len(observation_indexes)):\n",
    "        C_Z1[i][j] = C[observation_indexes[i]][observation_indexes[j]]\n",
    "\n",
    "for i in range(len(observation_indexes)):\n",
    "    for j in range(len(unknown_indexes)):\n",
    "        C_Z1_Z2[i][j] = C[observation_indexes[i]][unknown_indexes[j]]\n",
    "        \n",
    "for i in range(len(unknown_indexes)):\n",
    "    for j in range(len(unknown_indexes)):\n",
    "        C_Z2[i][j] = C[unknown_indexes[i]][unknown_indexes[j]]\n",
    "\n"
   ]
  },
  {
   "cell_type": "code",
   "execution_count": 49,
   "metadata": {},
   "outputs": [
    {
     "name": "stdout",
     "output_type": "stream",
     "text": [
      "0 : 0.0\n",
      "1 : -0.4668833484492607\n",
      "2 : -0.8883977418166769\n",
      "3 : -1.268761837826951\n",
      "4 : -1.6117824481977427\n",
      "5 : -1.9208926384908498\n",
      "6 : -2.199186087386249\n",
      "7 : -2.449448049258145\n",
      "8 : -2.6741832299369017\n",
      "9 : -2.875640854646853\n",
      "10 : -3.0558371790083436\n",
      "11 : -3.21657566840166\n",
      "12 : -3.359465047654721\n",
      "13 : -3.4859354017018713\n",
      "14 : -3.5972524883545685\n",
      "15 : -3.6945304064309976\n",
      "16 : -3.778742746031505\n",
      "17 : -3.8507323325555567\n",
      "18 : -3.9112196619816215\n",
      "19 : -3.96081011183309\n",
      "20 : -4.0\n",
      "21 : -4.314320932784455\n",
      "22 : -4.621779358999524\n",
      "23 : -4.925452425915113\n",
      "24 : -5.228379395652954\n",
      "25 : -5.533592063143457\n",
      "26 : -5.844145099348386\n",
      "27 : -6.163146623434558\n",
      "28 : -6.493789309875146\n",
      "29 : -6.839382341808889\n",
      "30 : -7.20338453045721\n",
      "31 : -7.589438932069464\n",
      "32 : -8.001409308854349\n",
      "33 : -8.443418798810757\n",
      "34 : -8.91989118147869\n",
      "35 : -9.435595152611782\n",
      "36 : -9.995692050887232\n",
      "37 : -10.605787514318045\n",
      "38 : -11.271987583362407\n",
      "39 : -12.000959812228881\n",
      "40 : -12.8\n",
      "41 : -11.918105713568405\n",
      "42 : -11.105450154373834\n",
      "43 : -10.3538999924369\n",
      "44 : -9.655933461132204\n",
      "45 : -9.0045650768198\n",
      "46 : -8.393275725777013\n",
      "47 : -7.815947418717157\n",
      "48 : -7.266802059896437\n",
      "49 : -6.7403436179896445\n",
      "50 : -6.231303119961382\n",
      "51 : -5.734585917412965\n",
      "52 : -5.245220697628868\n",
      "53 : -4.758309729008165\n",
      "54 : -4.26897984292047\n",
      "55 : -3.772333661396364\n",
      "56 : -3.2634005825226056\n",
      "57 : -2.7370870329875125\n",
      "58 : -2.1881254898872435\n",
      "59 : -1.6110217615861067\n",
      "60 : -1.0\n",
      "61 : -1.4370281543991066\n",
      "62 : -1.838396889011245\n",
      "63 : -2.2081232370371056\n",
      "64 : -2.5499075440370484\n",
      "65 : -2.8671705022332\n",
      "66 : -3.163087385946951\n",
      "67 : -3.4406198308116083\n",
      "68 : -3.7025454748172537\n",
      "69 : -3.9514857578453446\n",
      "70 : -4.189932157920143\n",
      "71 : -4.420271126758203\n",
      "72 : -4.644807974179256\n",
      "73 : -4.865789940421732\n",
      "74 : -5.08542868727839\n",
      "75 : -5.3059224331509025\n",
      "76 : -5.529477953558471\n",
      "77 : -5.758332667288939\n",
      "78 : -5.994777029238046\n",
      "79 : -6.241177454051873\n",
      "80 : -6.5\n",
      "81 : -6.213559421165048\n",
      "82 : -5.939264552908522\n",
      "83 : -5.674370159995224\n",
      "84 : -5.416225090306796\n",
      "85 : -5.162245741220242\n",
      "86 : -4.909890202044498\n",
      "87 : -4.656632813723865\n",
      "88 : -4.399938891193285\n",
      "89 : -4.137239355398263\n",
      "90 : -3.8659050210882007\n",
      "91 : -3.583220283046703\n",
      "92 : -3.2863559374018285\n",
      "93 : -2.9723408660028103\n",
      "94 : -2.638032300470979\n",
      "95 : -2.2800843683175023\n",
      "96 : -1.8949146063269322\n",
      "97 : -1.4786681060612392\n",
      "98 : -1.0271789326404859\n",
      "99 : -0.5359284306663232\n",
      "100 : 0.0\n"
     ]
    }
   ],
   "source": [
    "mZ1 = [mu for i in range(len(observation_indexes))]\n",
    "mZ2 = [mu for i  in range(len(unknown_indexes))]\n",
    "Z1 = depth\n",
    "C_Z2_Z1 = C_Z1_Z2.T\n",
    "Esp_Z2sachantZ1 = mZ2 + (np.dot(C_Z2_Z1,np.linalg.inv(C_Z1)).dot(Z1-mZ1))\n",
    "\n",
    "Esp_Z_Z1 = {}\n",
    "index_Z1 = 0\n",
    "index_Z2 = 0\n",
    "for i in range(101):\n",
    "    if i in observation_indexes:\n",
    "        Esp_Z_Z1[f\"{i}\"] = depth[index_Z1]\n",
    "        index_Z1 += 1\n",
    "    else:\n",
    "        Esp_Z_Z1[f\"{i}\"] = Esp_Z2sachantZ1[index_Z2]\n",
    "        index_Z2 += 1\n",
    "        \n",
    "for index in Esp_Z_Z1:\n",
    "    print(f\"{index} :\", Esp_Z_Z1[index])"
   ]
  },
  {
   "cell_type": "markdown",
   "metadata": {},
   "source": [
    "#### 6\n",
    "\n",
    "La matrice de covariance conditionnelle cherchée est : \n",
    "\\begin{equation}\n",
    "C_{Z_{2} | Z_{1}} = C_{Z_{2}} - C_{Z_{2}, Z_{1}} \\times C_{Z_{1}}^{-1} \\times C_{Z_{1}, Z_{2}}\n",
    "\\end{equation}\n",
    "\n",
    "D'où l'implémentation suivante."
   ]
  },
  {
   "cell_type": "code",
   "execution_count": 50,
   "metadata": {},
   "outputs": [
    {
     "data": {
      "text/plain": [
       "[<matplotlib.lines.Line2D at 0x1c786294908>]"
      ]
     },
     "execution_count": 50,
     "metadata": {},
     "output_type": "execute_result"
    },
    {
     "data": {
      "image/png": "[encoded data removed]",
      "text/plain": [
       "<Figure size 432x288 with 1 Axes>"
      ]
     },
     "metadata": {
      "needs_background": "light"
     },
     "output_type": "display_data"
    }
   ],
   "source": [
    "def mat_cov_condi():\n",
    "    M = C_Z2 - ( (C_Z2_Z1.dot(np.linalg.inv(C_Z1))).dot(C_Z1_Z2) )\n",
    "    return M\n",
    "\n",
    "C_Z2sachantZ1 = mat_cov_condi()\n",
    "\n",
    "position = [i*Delta for i in unknown_indexes]\n",
    "variance = [C_Z2sachantZ1[i][i] for i in range(95)]\n",
    "\n",
    "plt.plot(position, variance)"
   ]
  },
  {
   "cell_type": "markdown",
   "metadata": {},
   "source": [
    "Comme ici, $\\Delta = 5$ (m), on obtient logiquement une variance nulle aux points d'observation situés tous les 100m. De la même façon, il paraît logique que la variance augmente lorsqu'on s'éloigne de ces points puisque la position est moins connue loin des sites d'observation."
   ]
  },
  {
   "cell_type": "markdown",
   "metadata": {},
   "source": [
    "### 7\n",
    "\n",
    "## Méthode de Box-Muller\n",
    "\n",
    "Pour simuler un vecteur gaussien $(Y_{1}, Y_{2})$ de composantes indépendantes, il suffit de considérer deux variables aléatoires uniformes indépendantes $U_{1}$ et $U_{2}$, alors :\n",
    "\\begin{equation}\n",
    "X_{1} = \\sqrt{-2 ln \\left(U_{1}\\right)} cos \\left(2\\pi U_{2}\\right) \\\\\n",
    "X_{2} = \\sqrt{-2 ln \\left(U_{1}\\right)} sin \\left(2\\pi U_{2}\\right)\n",
    "\\end{equation}\n",
    "sont deux variables aléatoires gaussiennes, indépendantes, d'espérance nulle et d'écart-type 1.\n",
    "\n",
    "On peut donc simuler autant de paires de composantes gaussiennes indépendantes que l'on veut, ici on veut simuler 95 composantes gaussiennes indépendantes, on va donc simuler 48 paires et enlever une composante à la fin. "
   ]
  },
  {
   "cell_type": "code",
   "execution_count": 51,
   "metadata": {},
   "outputs": [],
   "source": [
    "def simul_Y():\n",
    "    Y = []\n",
    "    for i in range(48):\n",
    "        U1 = np.random.random()\n",
    "        U2 = np.random.random()\n",
    "        \n",
    "        X1 = np.sqrt(-2 * np.log(U1))*np.cos(2*np.pi*U2)\n",
    "        X2 = np.sqrt(-2 * np.log(U1))*np.sin(2*np.pi*U2)\n",
    "        \n",
    "        Y.append(X1)\n",
    "        Y.append(X2)\n",
    "        \n",
    "    Y.pop()\n",
    "    return Y\n",
    "        "
   ]
  },
  {
   "cell_type": "code",
   "execution_count": 52,
   "metadata": {},
   "outputs": [],
   "source": [
    "def cholesky(A):\n",
    "    L = [[0.0] * len(A) for _ in range(len(A))]\n",
    "    for i, (Ai, Li) in enumerate(zip(A, L)):\n",
    "        for j, Lj in enumerate(L[:i+1]):\n",
    "            s = sum(Li[k] * Lj[k] for k in range(j))\n",
    "            Li[j] = math.sqrt(Ai[i] - s) if (i == j) else \\\n",
    "                      (1.0 / Lj[j] * (Ai[j] - s))\n",
    "    return L\n",
    "\n"
   ]
  },
  {
   "cell_type": "code",
   "execution_count": 53,
   "metadata": {},
   "outputs": [
    {
     "name": "stdout",
     "output_type": "stream",
     "text": [
      "[array([  0.        ,  -1.51637589,  -3.50092827,  -2.68736014,\n",
      "        -4.51466101,  -8.13963985,  -7.42957935,  -8.42408241,\n",
      "       -10.34308672,  -7.25772642,  -5.22783105,  -5.83956594,\n",
      "        -7.61442806,  -5.36275105,  -3.39508956,  -4.5652739 ,\n",
      "        -7.0121472 ,  -7.5456462 ,  -6.30651385,  -5.47765951,\n",
      "        -4.        ,  -5.29037112,  -6.68030495,  -7.37687237,\n",
      "        -8.59988874,  -7.60954795,  -7.75815474,  -7.67229389,\n",
      "        -9.38350906,  -9.55562193,  -8.99617959,  -8.12286643,\n",
      "        -7.73902579,  -7.65196116,  -7.90996929, -10.28489844,\n",
      "        -7.92599083, -10.17455339, -10.44116819, -10.5640824 ,\n",
      "       -12.8       , -13.11628892, -12.63198878, -10.05623464,\n",
      "       -10.8483035 ,  -8.66666136,  -6.58407297,  -7.42436546,\n",
      "        -9.17787051, -11.27729768, -12.0884707 , -10.60627962,\n",
      "        -7.29903235,  -5.16526428,  -6.3527606 ,  -5.86939791,\n",
      "        -6.44692886,  -6.19603105,  -3.96170338,  -5.09640218,\n",
      "        -1.        ,  -0.30981266,   1.47912109,   2.87720608,\n",
      "         1.57398949,   3.06000061,   1.29649772,  -1.04271813,\n",
      "        -0.27595007,  -2.16375525,  -0.8958832 ,  -4.11833239,\n",
      "        -5.780528  ,  -4.65982891,  -4.97896092,  -5.15147271,\n",
      "        -3.86061021,  -5.52008089,  -6.89504336,  -8.30585838,\n",
      "        -6.5       ,  -5.99235366,  -5.85941674,  -5.2472737 ,\n",
      "        -5.91680436,  -4.83441924,  -4.93534306,  -5.0640121 ,\n",
      "        -5.03861488,  -2.93910345,  -4.17793952,  -4.75252796,\n",
      "        -6.10491149,  -5.03052573,  -0.7592666 ,  -0.48546489,\n",
      "        -1.17276558,   1.72491937,   1.35485598,   0.67275289,\n",
      "         0.        ]), array([  0.        ,  -2.18247339,  -3.7139111 ,  -3.53033615,\n",
      "        -3.74845496,  -4.14385458,  -4.61082451,  -5.22949957,\n",
      "        -4.97809086,  -3.59310605,  -5.1202487 ,  -5.71397318,\n",
      "        -5.90642961,  -4.79483854,  -6.03107042,  -4.53634451,\n",
      "        -3.78601763,  -4.81212938,  -5.62756974,  -7.3564897 ,\n",
      "        -4.        ,  -5.46434182,  -6.65402476,  -5.51520074,\n",
      "        -5.19761232,  -6.07523955,  -6.4015155 ,  -4.61677259,\n",
      "        -7.58172237,  -6.592787  ,  -6.97706191,  -5.68312861,\n",
      "        -3.64351704,  -6.08383486,  -6.75362236,  -8.84249174,\n",
      "        -9.38748238,  -9.39645017, -11.18814036, -11.53444268,\n",
      "       -12.8       ,  -7.33360029,  -6.87902241,  -6.69153038,\n",
      "        -3.64554669,  -1.3122567 ,  -2.39721777,  -6.17019977,\n",
      "        -4.19945041,  -2.02603301,  -3.26054481,  -3.00270844,\n",
      "        -7.17530956,  -9.15448002,  -9.76985372,  -9.01903873,\n",
      "        -6.38154338,  -6.78088629,  -3.23622226,  -4.26218234,\n",
      "        -1.        ,   0.12099789,  -1.86713759,  -3.14548003,\n",
      "        -4.46385468,  -4.31555326,  -3.10443853,  -4.4125511 ,\n",
      "        -4.10739096,  -4.26243015,  -6.32561333,  -5.64428693,\n",
      "        -6.77376193,  -7.74198676,  -7.53461919,  -5.95391164,\n",
      "        -8.03471783,  -7.72439014,  -7.42288999,  -7.18217262,\n",
      "        -6.5       ,  -6.15827476,  -7.20682063,  -5.81514073,\n",
      "        -6.37990264,  -7.51043008,  -6.76965701,  -5.8990599 ,\n",
      "        -4.10601258,  -2.6505551 ,  -3.19821292,  -2.8400516 ,\n",
      "        -2.29354424,  -1.01247855,  -2.81028359,  -1.13286841,\n",
      "        -1.22833986,  -1.506686  ,   0.18536937,   0.78255753,\n",
      "         0.        ]), array([  0.        ,  -1.00065525,  -0.59555731,  -2.62023511,\n",
      "        -2.12146851,  -1.41182269,  -2.98231052,  -1.98652102,\n",
      "        -2.9253586 ,  -5.00780115,  -5.15656653,  -4.16408198,\n",
      "        -3.18341118,  -4.40198934,  -4.01849748,  -4.27234182,\n",
      "        -4.48326273,  -5.84016627,  -4.00794761,  -6.37296934,\n",
      "        -4.        ,  -5.67153413,  -6.09814598,  -7.29271298,\n",
      "        -9.37087048,  -7.21871972,  -9.60013468, -10.04001496,\n",
      "       -11.40393038, -11.68016406, -11.4447453 ,  -9.79130887,\n",
      "       -11.1225268 ,  -7.83819202,  -7.28535925,  -9.57787016,\n",
      "        -9.11032538,  -7.20434847,  -8.11043727,  -9.13553098,\n",
      "       -12.8       ,  -9.71884119, -10.93235135, -11.77955883,\n",
      "       -10.31411189,  -9.59533536, -10.01600598, -11.95909729,\n",
      "       -14.02220895, -12.65251753, -12.43813644, -13.05970677,\n",
      "       -10.96262293, -11.14387468, -10.30914135,  -8.55961176,\n",
      "        -5.16690569,  -3.87337684,  -1.08530635,  -2.60554697,\n",
      "        -1.        ,  -2.14251342,  -3.49383692,  -0.16649547,\n",
      "        -0.60029484,  -1.95538825,  -4.67359973,  -6.13688134,\n",
      "        -7.24679289,  -4.67324407,  -7.66778899,  -6.61614789,\n",
      "        -6.35802702,  -7.54591701,  -5.37696892,  -6.27762337,\n",
      "        -7.62184791,  -4.95597937,  -4.2079285 ,  -4.07385669,\n",
      "        -6.5       ,  -3.49527954,  -3.38182147,  -5.5503432 ,\n",
      "        -3.90180413,  -4.02298167,  -2.98780004,  -3.08640167,\n",
      "         0.26601656,   0.84708579,  -1.31745222,  -1.35344677,\n",
      "        -1.01401516,  -1.49957216,   0.19987732,   1.10831526,\n",
      "         1.50075434,  -0.86830765,   0.60841468,   1.42725483,\n",
      "         0.        ]), array([  0.        ,  -1.39992106,  -1.76466532,  -0.6856666 ,\n",
      "         0.57669511,  -0.70794556,   0.87953272,   1.28531658,\n",
      "        -0.23546829,  -1.4686317 ,  -4.5596961 ,  -5.26674889,\n",
      "        -6.0876441 ,  -4.9836201 ,  -5.92098359,  -4.19084952,\n",
      "        -2.47858461,  -4.17884074,  -3.71922309,  -3.54864944,\n",
      "        -4.        ,  -3.02327311,   0.54348711,  -3.0079905 ,\n",
      "        -4.98195012,  -3.34963364,  -2.14159701,  -6.69832365,\n",
      "        -3.59660018,  -2.95095596,  -1.57376172,  -1.87660833,\n",
      "        -3.22661359,  -4.23807368,  -7.26349124,  -9.76251965,\n",
      "        -9.92609941, -10.16436756, -11.7703747 , -12.87217428,\n",
      "       -12.8       , -13.63172624, -10.79722017,  -9.13182362,\n",
      "        -9.28374506,  -7.39439938,  -7.4556428 ,  -4.79271583,\n",
      "        -4.34604346,  -3.08733798,  -5.01953366,  -3.97724521,\n",
      "        -4.94183789,  -4.37694244,  -4.30907314,  -3.69455993,\n",
      "        -3.65968254,  -3.1042745 ,  -4.22614006,  -2.3129106 ,\n",
      "        -1.        ,  -1.34492252,   0.30401672,  -0.51422569,\n",
      "        -2.51206258,  -4.40748683,  -5.26537394,  -5.97464614,\n",
      "        -6.72047505,  -8.88786628,  -8.82369042,  -6.39718588,\n",
      "        -5.8240616 , -10.47267352, -11.15613607, -10.52727417,\n",
      "       -11.23850162, -10.32409537,  -7.72968756,  -7.50461248,\n",
      "        -6.5       ,  -3.90077345,  -3.03095336,  -2.00324796,\n",
      "        -1.85885142,   0.05958992,  -0.92949044,  -2.44808629,\n",
      "        -4.41732182,  -4.36890673,  -3.74780766,  -5.64675205,\n",
      "        -5.96245858,  -3.98500378,  -4.44959695,  -4.25931058,\n",
      "        -1.18131496,  -1.61724286,  -1.57072383,  -1.1392245 ,\n",
      "         0.        ]), array([  0.        ,   0.19791177,   1.99955215,   2.7916559 ,\n",
      "         2.91196823,   3.2243704 ,   1.22450659,  -1.79102111,\n",
      "        -2.88592382,  -2.1347515 ,  -3.23780522,  -4.4759468 ,\n",
      "        -3.95063789,  -5.93838039,  -7.03357724,  -6.77023592,\n",
      "        -5.88022712,  -5.82311463,  -3.18466803,  -3.63352693,\n",
      "        -4.        ,  -4.21334545,  -2.77092257,  -2.9525298 ,\n",
      "        -6.63339362,  -5.44693551,  -4.53423438,  -5.4863723 ,\n",
      "        -5.88963869,  -4.60826502,  -5.19614519,  -7.13976648,\n",
      "       -10.43379603,  -8.95159646,  -7.94036444,  -7.23282362,\n",
      "        -8.86010048,  -9.89112095, -10.21295453, -12.83637778,\n",
      "       -12.8       , -12.01993511, -12.30648775, -10.36094421,\n",
      "        -9.71705117,  -9.99168984,  -7.88815517,  -5.3276754 ,\n",
      "        -7.72678553,  -7.70178947,  -6.9229167 ,  -7.62897938,\n",
      "        -8.83617604,  -9.66127566,  -6.5767724 ,  -7.08820835,\n",
      "        -4.40144478,  -2.05464519,  -2.04849349,  -1.41732646,\n",
      "        -1.        ,   1.22200611,  -1.20152372,  -1.85330334,\n",
      "        -4.73630013,  -5.6205847 ,  -5.13662246,  -6.69340588,\n",
      "        -4.91253355,  -3.92211789,  -4.54549722,  -4.45971838,\n",
      "        -4.65709315,  -2.980577  ,  -2.77256615,  -3.2886776 ,\n",
      "        -2.88725235,  -3.25044391,  -4.55407196,  -5.41962108,\n",
      "        -6.5       ,  -5.8166618 ,  -6.00391189,  -6.75108019,\n",
      "        -6.9905476 ,  -6.0165351 ,  -4.55929075,  -6.80742214,\n",
      "        -4.7340543 ,  -7.94134836,  -6.86103187,  -5.16746306,\n",
      "        -4.19841355,  -4.42209431,  -6.39441647,  -6.65539999,\n",
      "        -4.43626342,  -1.70034324,  -0.05291345,   1.10028536,\n",
      "         0.        ]), array([  0.        ,  -1.04681381,  -2.07864728,  -2.52880374,\n",
      "        -1.61952472,  -4.05121795,  -4.03560106,  -3.22707785,\n",
      "        -3.21383631,  -0.79541821,   0.07431404,  -0.47926289,\n",
      "        -0.96406507,  -3.02858488,  -2.22327536,  -1.36809664,\n",
      "        -0.3114908 ,  -2.20729134,  -5.33594764,  -4.71055194,\n",
      "        -4.        ,  -2.53775822,  -2.34840248,  -3.7645611 ,\n",
      "        -0.13154429,  -1.58323625,  -3.16507098,  -3.50468543,\n",
      "        -5.3502473 ,  -3.94817434,  -5.62040839,  -8.75204724,\n",
      "        -7.93956572, -13.83546256, -15.02686043, -15.12897229,\n",
      "       -14.29481307, -12.26397739, -11.59101991, -12.71747074,\n",
      "       -12.8       , -12.84627072, -13.71291253, -11.50308293,\n",
      "        -8.99055723,  -9.08950093,  -8.58006416,  -7.38919691,\n",
      "       -10.3687511 , -11.0497262 ,  -9.82053974,  -8.90702957,\n",
      "        -7.91995821,  -4.80493739,  -2.09968319,  -1.6795743 ,\n",
      "         0.74537548,   0.79278575,  -0.37790888,  -1.86380786,\n",
      "        -1.        ,  -1.69465998,  -3.14996842,  -3.32425858,\n",
      "        -4.63774227,  -6.85515588,  -5.99008263,  -6.7515223 ,\n",
      "        -4.87480052,  -6.30453063,  -5.08298991,  -3.96659026,\n",
      "        -4.93447906,  -5.15693501,  -4.99303611,  -7.79502236,\n",
      "        -5.80339772,  -6.13963587,  -7.41329738,  -6.87650207,\n",
      "        -6.5       ,  -7.40598127,  -4.6832812 ,  -3.10692675,\n",
      "        -5.73238251,  -2.93274529,  -3.16827554,  -1.85359834,\n",
      "        -1.56155076,  -1.50015156,  -0.87278465,   0.31499716,\n",
      "         0.47813701,  -0.71668299,   2.6517368 ,   4.63758978,\n",
      "         5.00057295,   3.92687284,   4.01602173,   1.56630994,\n",
      "         0.        ]), array([  0.        ,  -0.29216309,   0.71191963,  -1.50535781,\n",
      "        -2.43751572,  -1.51167485,  -0.81000482,   0.42881961,\n",
      "        -0.88097348,  -2.28210196,  -5.79585379,  -5.73328923,\n",
      "        -4.96829845,  -2.82595273,  -4.24184412,  -7.35436517,\n",
      "        -6.96149867,  -4.28786497,  -4.81615464,  -3.42416778,\n",
      "        -4.        ,  -4.9381571 ,  -5.55106787,  -4.46301826,\n",
      "        -1.85849541,   1.60078015,  -1.93918781,  -2.78816024,\n",
      "        -4.59524554,  -5.25106878,  -5.91206846,  -8.06188543,\n",
      "        -7.45412949,  -7.2165965 ,  -8.54316163,  -9.25645573,\n",
      "       -10.08912288, -12.34452049, -12.57061904, -13.27262567,\n",
      "       -12.8       , -11.78829445, -13.11606059, -11.2735277 ,\n",
      "       -12.52071656,  -9.90012155, -11.11822259, -11.72133415,\n",
      "        -6.81271779,  -7.56541396,  -5.47739524,  -4.71332231,\n",
      "        -5.23439049,  -4.16928532,  -1.40738044,  -3.04455535,\n",
      "        -4.02948663,  -3.98379595,  -0.9221969 ,  -1.89979972,\n",
      "        -1.        ,  -1.60463535,  -2.10252952,  -0.10016133,\n",
      "         1.70341978,   2.36443206,  -1.11723073,  -6.19134089,\n",
      "        -8.28466841,  -7.65682332,  -7.3001374 ,  -6.74756093,\n",
      "        -5.28655026,  -5.32756874,  -4.86735119,  -5.00548759,\n",
      "        -5.98322465,  -6.1281241 ,  -7.5446729 ,  -5.94517194,\n",
      "        -6.5       ,  -6.8450649 ,  -8.50690424,  -7.97245778,\n",
      "        -8.74288986,  -7.87309239,  -8.5416336 ,  -8.07615362,\n",
      "        -8.18976294,  -6.79209501,  -6.6575322 ,  -4.75938282,\n",
      "        -5.81831434,  -6.00733475,  -3.69268596,  -3.05423984,\n",
      "        -4.67369772,  -2.84150311,  -0.6913634 ,   1.1963821 ,\n",
      "         0.        ]), array([  0.        ,   0.42354384,  -1.86400437,  -3.13500186,\n",
      "        -4.34692771,  -4.29854854,  -2.69990913,  -1.60451838,\n",
      "        -3.00081725,  -2.85107643,  -2.14578191,  -0.59087018,\n",
      "         0.27447699,  -1.06849524,  -2.75662116,  -3.52057287,\n",
      "        -5.11039374,  -4.76276525,  -5.45176419,  -4.25495109,\n",
      "        -4.        ,  -4.53849068,  -3.41043049,  -6.31050665,\n",
      "        -7.11884212,  -6.49556557,  -5.22480071,  -7.26671686,\n",
      "        -6.02092493,  -4.05471582,  -5.15592598,  -6.64612218,\n",
      "        -4.14159313,  -4.67107505,  -3.63525181,  -8.88367811,\n",
      "       -10.97794945, -13.97984412, -14.08066447, -12.30972172,\n",
      "       -12.8       , -13.5908606 , -13.91442129, -14.03908818,\n",
      "       -12.31181781, -12.00246142,  -9.1334857 ,  -6.59006468,\n",
      "        -6.39995237,  -6.79383035,  -7.67974006,  -6.263144  ,\n",
      "        -6.51181985,  -6.82869173,  -3.74695003,  -5.64174037,\n",
      "        -3.22824344,  -2.57273364,   0.15975355,  -0.22346001,\n",
      "        -1.        ,  -1.02904321,  -1.78973309,  -3.97369009,\n",
      "        -5.06867799,  -4.71206194,  -5.04732305,  -5.09311262,\n",
      "        -6.11540635,  -4.51529722,  -6.37025296,  -6.8992845 ,\n",
      "        -6.27455822,  -9.3203143 ,  -9.50911134,  -7.88534546,\n",
      "        -8.49520007,  -8.12612341,  -7.67417055,  -8.30938476,\n",
      "        -6.5       ,  -8.15402726,  -6.60575996,  -6.72964332,\n",
      "        -4.18385525,  -4.02349756,  -2.36959736,  -1.9043961 ,\n",
      "        -3.48907726,  -2.55487119,  -0.75465598,   0.0467521 ,\n",
      "         2.05790964,   1.33280167,  -1.38571432,  -2.73445914,\n",
      "        -1.76256604,  -1.69153107,   0.98202197,   0.5565944 ,\n",
      "         0.        ]), array([  0.        ,   0.33355807,  -0.89119156,  -0.08707005,\n",
      "        -1.50951106,  -1.81258091,  -1.64927767,  -2.53744767,\n",
      "        -3.05299269,  -1.76173026,  -4.11277775,  -6.88754542,\n",
      "        -6.71007644,  -6.62302986,  -6.45615746,  -6.70122309,\n",
      "        -6.35394475,  -5.02844773,  -4.91432591,  -5.23413907,\n",
      "        -4.        ,  -0.8513059 ,  -2.6700399 ,  -1.70355731,\n",
      "        -3.86664658,  -4.58342158,  -3.75531748,  -1.20985637,\n",
      "        -1.20413314,  -1.21840291,  -3.56702003,  -5.32713691,\n",
      "        -5.54611307,  -5.176961  ,  -6.63729866,  -7.72645999,\n",
      "        -9.29753574, -10.18998427, -12.38178071, -11.82899546,\n",
      "       -12.8       , -13.35973928, -11.65179297, -11.6588219 ,\n",
      "        -9.37105293,  -8.85714973,  -7.50799922,  -7.0323166 ,\n",
      "        -7.73352284,  -6.59328357,  -9.59508751,  -8.52830298,\n",
      "        -8.56050361,  -7.16427051,  -5.67521432,  -6.41372999,\n",
      "        -4.47011065,  -4.72158038,  -3.41967488,  -3.76817275,\n",
      "        -1.        ,  -1.29271782,  -2.45416928,  -3.06430496,\n",
      "        -5.1076638 ,  -8.77652605,  -7.52122738,  -8.73073972,\n",
      "       -10.59300532, -13.18745798, -10.15949643,  -9.90347371,\n",
      "        -9.19547334,  -6.91987991,  -6.67641882,  -8.99950401,\n",
      "        -9.74961331,  -9.58222956,  -6.58640131,  -6.85577903,\n",
      "        -6.5       ,  -5.30915293,  -3.41334171,  -1.90817377,\n",
      "        -1.68119503,  -3.43537375,  -3.25361435,  -0.69007829,\n",
      "         0.47900841,  -1.61506354,  -2.14949744,  -0.47728054,\n",
      "         0.12548501,  -0.02012416,   0.98020179,   0.85383139,\n",
      "        -0.01852305,  -0.10982398,  -0.28016136,   0.61336523,\n",
      "         0.        ]), array([  0.        ,   2.30748777,   3.17419529,   3.76039335,\n",
      "         2.99565195,   3.66878761,   2.27071444,   1.34403758,\n",
      "         2.33100014,   2.5878594 ,  -0.04059687,  -1.76889568,\n",
      "        -0.13964648,   0.36370073,  -1.81815801,  -4.30337501,\n",
      "        -3.83312044,  -2.09735289,  -3.04557864,  -4.11583598,\n",
      "        -4.        ,  -3.51057598,  -5.99215092,  -6.80988681,\n",
      "        -7.48783421,  -8.27468847,  -8.70052921,  -5.1667712 ,\n",
      "        -5.76636913,  -6.11899656, -10.52394796, -11.63421137,\n",
      "       -10.63064058, -11.70820455, -13.66945382, -13.33050088,\n",
      "       -12.62786524, -13.29727311, -10.70241874, -12.09075009,\n",
      "       -12.8       , -11.79000804, -12.3329642 ,  -9.99406475,\n",
      "        -7.91829521, -10.79245446,  -6.8797924 ,  -5.45147427,\n",
      "        -5.09091971,  -3.32711853,  -2.18188387,  -3.9807651 ,\n",
      "        -5.44106837,  -4.50636845,  -6.49867465,  -6.9105258 ,\n",
      "        -6.98688847,  -3.67226842,  -3.02761785,  -1.68090068,\n",
      "        -1.        ,  -2.92023812,  -2.32279369,  -5.4057746 ,\n",
      "        -4.69552247,  -6.46189829,  -6.55327477,  -7.47221619,\n",
      "        -5.36551381,  -3.6789599 ,  -5.47219514,  -4.91904276,\n",
      "        -5.14212275,  -3.75790157,  -1.35330461,  -0.18210768,\n",
      "        -1.43786497,  -5.14541919,  -6.50865039,  -7.46369471,\n",
      "        -6.5       ,  -6.03705357,  -5.94306639,  -7.14969436,\n",
      "        -6.43593723,  -8.34085188,  -8.16555267, -10.49101757,\n",
      "       -11.11534806, -10.95582099,  -7.86357065,  -5.26767165,\n",
      "        -4.0604275 ,  -3.34451965,  -3.56930027,  -2.73008666,\n",
      "        -3.62895606,  -3.34606794,  -2.23442229,  -0.82780434,\n",
      "         0.        ]), array([  0.        ,   0.67675667,   0.46932837,  -2.88670579,\n",
      "        -2.07691094,  -2.1897839 ,  -1.50086796,  -0.9475028 ,\n",
      "        -0.86398385,  -0.127015  ,   0.13938597,  -2.34553194,\n",
      "        -0.52728986,  -1.45747947,  -0.79348217,   1.60609463,\n",
      "         0.5504889 ,   1.41893695,  -0.2827615 ,  -3.44179814,\n",
      "        -4.        ,  -4.37752059,  -5.67045167,  -9.01494956,\n",
      "        -8.1139349 ,  -8.76821328,  -9.87433443, -11.8882696 ,\n",
      "       -13.10222859, -11.86365259, -12.21281546, -12.89451582,\n",
      "       -12.91841725, -12.36520568, -10.56166792,  -9.44122452,\n",
      "       -11.5062091 , -10.68276442, -13.11061801, -13.5897881 ,\n",
      "       -12.8       , -12.99253259, -10.95139825,  -9.1537361 ,\n",
      "        -9.78583874,  -8.44080691,  -9.41806163, -10.19966074,\n",
      "       -10.2809355 ,  -9.55953951, -12.87943439, -11.65125927,\n",
      "       -12.42843826,  -9.64554087, -10.03131318,  -8.83854144,\n",
      "        -7.63579474,  -3.99974942,  -4.00995214,  -1.89123913,\n",
      "        -1.        ,  -3.09481379,  -4.39180682,  -3.7296196 ,\n",
      "        -3.22325747,  -3.13118995,  -2.15063876,  -1.82841545,\n",
      "        -1.93297575,  -2.40639834,  -3.62661229,  -1.73871259,\n",
      "        -2.90428203,  -4.92905574,  -5.17636251,  -5.8471801 ,\n",
      "        -4.83223914,  -5.31335233,  -5.01849608,  -7.6675884 ,\n",
      "        -6.5       ,  -7.44983259,  -6.26944224,  -6.61408849,\n",
      "        -7.8471149 ,  -7.22970159,  -7.02860228,  -5.85911431,\n",
      "        -5.36595367,  -5.53156494,  -2.51914644,  -3.35064858,\n",
      "        -4.58399259,  -3.9541073 ,  -4.33027407,  -4.03130607,\n",
      "        -6.42119457,  -4.62584264,  -3.72473189,  -1.4941026 ,\n",
      "         0.        ]), array([  0.        ,   2.04310878,   2.49269966,   3.61713005,\n",
      "         6.0699107 ,   7.66537918,   5.96235603,   2.17731375,\n",
      "        -1.82011467,  -0.86350433,   1.01435203,   0.7556227 ,\n",
      "        -2.396296  ,  -3.47440345,  -4.56650507,  -4.64150866,\n",
      "        -3.2359955 ,  -3.37082481,  -3.99181226,  -3.89353226,\n",
      "        -4.        ,  -4.80534501,  -4.1601265 ,  -3.97932571,\n",
      "        -5.30997941,  -4.90465185,  -6.1018324 ,  -6.53325361,\n",
      "        -3.71787146,  -7.46052337,  -7.94930336, -12.54049761,\n",
      "       -11.10591176, -11.01004684, -10.03269316, -11.63337502,\n",
      "       -13.07041665, -14.23777406, -12.80789126, -12.00549082,\n",
      "       -12.8       , -11.7052335 , -10.076526  ,  -7.13527814,\n",
      "        -7.9469914 ,  -7.8247374 ,  -7.02295864,  -8.67152576,\n",
      "        -7.84998287,  -8.58276039,  -8.9374902 ,  -7.92461932,\n",
      "        -7.91292348,  -7.83959259,  -5.95853385,  -2.51350282,\n",
      "         1.56622653,   1.46187536,   1.57046095,   2.07811272,\n",
      "        -1.        ,  -2.62634721,  -1.77911193,  -3.93339874,\n",
      "        -3.53646178,  -3.10913385,  -6.21078446,  -6.71484323,\n",
      "        -5.51782097,  -5.9657277 ,  -3.46964735,  -1.8288778 ,\n",
      "        -1.45467335,  -3.55265917,  -2.87026946,  -2.91716455,\n",
      "        -2.60467356,  -4.05468886,  -3.96256434,  -4.33339007,\n",
      "        -6.5       ,  -4.5219427 ,  -2.27060379,  -4.44411381,\n",
      "        -5.39747101,  -4.92895636,  -3.29526161,  -4.7778976 ,\n",
      "        -6.27309222,  -6.67688187,  -7.14777196,  -7.07746627,\n",
      "        -6.60708895,  -7.29071831,  -6.21961683,  -3.58588051,\n",
      "        -2.67875142,  -1.30452285,  -2.94140543,  -2.02558632,\n",
      "         0.        ]), array([  0.        ,  -2.13085318,  -0.29743879,  -0.34642368,\n",
      "        -0.1766309 ,  -2.86861077,  -5.80157517,  -4.57535407,\n",
      "        -2.84921778,   0.16127695,   0.81856707,  -3.53872677,\n",
      "        -3.65609768,  -3.51934902,  -0.68217012,   0.82459507,\n",
      "        -2.89903868,  -1.99375523,  -5.8439888 ,  -3.90808328,\n",
      "        -4.        ,  -5.61610343,  -6.58398374,  -7.16781011,\n",
      "        -7.67785069,  -8.68823267,  -8.79217585,  -7.85242507,\n",
      "        -7.50760024,  -5.72800309,  -6.86636143,  -6.48947635,\n",
      "        -9.09169531,  -9.24257932,  -7.30309974,  -7.79587563,\n",
      "        -9.64026648,  -9.67830019, -10.45581459, -10.30446223,\n",
      "       -12.8       , -11.58706167,  -9.95437777,  -9.4398058 ,\n",
      "       -10.81044721, -10.02098954, -10.24931626,  -9.15480287,\n",
      "        -8.56980047,  -9.41091547,  -6.92568877,  -9.3574983 ,\n",
      "        -7.02877908,  -3.05223002,  -5.79136547,  -4.61446267,\n",
      "        -2.13600321,  -2.3155572 ,   0.32962646,  -0.65721627,\n",
      "        -1.        ,  -4.36348008,  -6.15658618,  -5.75430479,\n",
      "        -4.54991255,  -1.58611511,  -0.68248023,  -0.78445704,\n",
      "        -1.06939599,  -3.68365012,  -5.00000095,  -6.36837955,\n",
      "        -4.63830788,  -4.32526756,  -5.51257828,  -3.29344243,\n",
      "        -3.96335886,  -5.82503693,  -6.49421068,  -6.71399914,\n",
      "        -6.5       ,  -8.38485906,  -4.93561405,  -3.17347958,\n",
      "        -1.3142126 ,  -2.21938232,  -2.4919744 ,  -0.96053339,\n",
      "        -2.16957959,  -0.60315353,  -2.44807287,  -0.66383498,\n",
      "         1.02889461,  -0.73663167,   1.21778939,   0.62554282,\n",
      "        -1.65136242,  -3.49624882,  -3.15976532,  -2.62669309,\n",
      "         0.        ]), array([  0.        ,  -1.90072644,  -1.89723336,  -2.59658829,\n",
      "        -0.18120035,  -0.61735833,  -0.03829212,  -1.37961835,\n",
      "        -0.92472081,  -3.58505294,  -4.34332115,  -2.82635047,\n",
      "        -3.72185631,  -1.95316256,  -3.25430275,  -3.40117419,\n",
      "        -5.10481329,  -6.78110339,  -6.3073463 ,  -5.8121293 ,\n",
      "        -4.        ,  -2.87992619,  -4.38246725,  -5.7944316 ,\n",
      "        -4.92192196,  -3.15073024,  -4.16205508,  -5.03112991,\n",
      "        -5.78220058,  -8.41596357,  -9.34606761, -10.19644294,\n",
      "        -8.97552799, -13.54320282, -15.846884  , -15.78729095,\n",
      "       -12.53340268, -12.9997581 , -12.41110946, -11.26973929,\n",
      "       -12.8       , -12.27329113, -12.65369936,  -8.95982075,\n",
      "        -6.99001047,  -5.34810665,  -4.14638524,  -4.29710033,\n",
      "        -4.63580218,  -3.49579238,  -3.98290727,  -4.93352091,\n",
      "        -4.82560376,  -5.79960336,  -5.94630396,  -6.01996649,\n",
      "        -4.52174301,  -3.93830634,  -2.6964261 ,  -2.68541277,\n",
      "        -1.        ,  -1.63072056,  -1.31248365,  -0.25681393,\n",
      "        -1.58903607,  -3.33111321,  -1.77997912,  -2.68905663,\n",
      "        -1.39896214,  -1.01842195,  -2.21406864,  -3.27828626,\n",
      "        -4.7972877 ,  -2.53925919,  -5.64509401,  -5.65219128,\n",
      "        -7.34268636,  -6.97776401,  -8.16045739, -10.21877092,\n",
      "        -6.5       ,  -6.5348224 ,  -5.92215549,  -8.28690855,\n",
      "       -10.15170668, -10.43204595, -11.80073433, -12.25948861,\n",
      "        -9.89404877, -10.11902713, -10.9985345 ,  -9.02350229,\n",
      "        -8.81673521,  -5.90849506,  -7.51510099,  -6.36910201,\n",
      "        -6.51918274,  -4.91580402,  -3.47569744,  -0.975998  ,\n",
      "         0.        ]), array([  0.        ,   1.0922008 ,   0.35839115,  -1.54696779,\n",
      "        -2.1805348 ,  -4.19182644,  -2.27240055,  -1.12880464,\n",
      "        -1.62316295,  -1.43751836,  -0.70834775,   0.3203317 ,\n",
      "        -1.16105656,   0.81570229,   0.16976486,   1.30842412,\n",
      "        -1.21130569,  -3.0646851 ,  -2.7577348 ,  -3.829716  ,\n",
      "        -4.        ,  -4.52225865,  -4.6203574 ,  -4.48003843,\n",
      "        -4.13969816,  -2.73750274,  -2.9857209 ,  -4.17716773,\n",
      "        -3.82144408,  -4.64924649,  -6.4729055 ,  -8.17999933,\n",
      "        -8.84681962, -10.11562674, -11.6362601 , -12.86280049,\n",
      "       -10.53416408, -12.80575093, -13.12253544, -11.33606925,\n",
      "       -12.8       , -12.64738243, -12.30846122, -12.01602595,\n",
      "        -9.92164733,  -8.94058975,  -7.65565312,  -6.88685864,\n",
      "        -8.81991603,  -6.54451879,  -6.96782499,  -6.84970204,\n",
      "        -8.20044651,  -6.76525014,  -6.17171366,  -4.76360838,\n",
      "        -3.30993542,  -3.33149917,  -5.00840239,  -2.72926096,\n",
      "        -1.        ,  -0.56138425,  -1.86403564,  -1.14036658,\n",
      "        -1.69983751,  -0.94979949,  -2.55688797,  -1.71526062,\n",
      "        -2.71287042,  -3.23321907,  -5.3347273 ,  -6.76576424,\n",
      "        -7.45769359,  -6.9306591 ,  -8.52236475,  -9.90988415,\n",
      "       -12.85689653, -13.09841918,  -9.74154716,  -8.17160653,\n",
      "        -6.5       ,  -3.31586653,  -4.25444401,  -3.40812938,\n",
      "        -6.77265434,  -5.28807613,  -6.13627778,  -6.13357013,\n",
      "        -4.73378061,  -5.84178589,  -5.34496498,  -4.00374827,\n",
      "        -2.89823396,  -4.83877076,  -4.22678589,  -3.33924362,\n",
      "        -1.19758045,  -1.79260522,  -2.35683495,  -1.36667653,\n",
      "         0.        ]), array([  0.        ,  -1.77018468,  -2.92683503,  -3.16197048,\n",
      "        -2.20997716,   2.27148873,   0.81595505,   0.3222571 ,\n",
      "        -3.25027604,  -3.96717274,  -4.821041  ,  -5.03184693,\n",
      "        -3.58766996,  -3.86836675,  -1.61067436,  -3.39165366,\n",
      "        -4.25359653,  -4.51881373,  -5.15954053,  -5.23560394,\n",
      "        -4.        ,  -2.19092547,  -1.2497513 ,  -3.60285768,\n",
      "        -4.0716015 ,  -4.886827  ,  -7.65933954,  -8.45574608,\n",
      "        -7.77715331,  -3.8368989 ,  -3.33219231,  -1.62787859,\n",
      "        -3.92167309,  -6.88579414,  -7.18694119,  -6.8670858 ,\n",
      "        -6.15155324,  -7.99700049,  -9.22795967, -12.01763945,\n",
      "       -12.8       , -11.88056758, -13.11980167, -13.03093618,\n",
      "       -11.33641262, -10.81430104,  -8.45474853,  -7.95971802,\n",
      "        -8.38524357,  -8.29105992,  -6.58830391,  -5.35418431,\n",
      "        -6.34699501,  -3.88307287,  -4.70311793,  -3.22205928,\n",
      "        -1.26336747,  -0.9233156 ,  -1.42423135,  -3.26918654,\n",
      "        -1.        ,  -1.81909449,  -2.02125181,  -0.19533428,\n",
      "        -0.98392752,  -2.57969196,  -2.23287286,  -3.2106892 ,\n",
      "        -3.5772732 ,  -4.45410401,  -3.29486838,  -3.54328332,\n",
      "        -2.07430367,  -0.89423091,  -2.67277054,  -4.8740265 ,\n",
      "        -6.34453599,  -5.66789322,  -6.47781748,  -5.94147244,\n",
      "        -6.5       ,  -4.98764059,  -3.22229456,  -2.93020718,\n",
      "        -4.44167061,  -4.24917319,  -5.66804716,  -4.46384154,\n",
      "        -4.93417153,  -7.93689396,  -7.92316098,  -6.51957485,\n",
      "        -7.48574686,  -7.49206494,  -6.64654501,  -7.1975717 ,\n",
      "        -4.76163055,  -1.56519709,  -1.2060344 ,   0.06278381,\n",
      "         0.        ]), array([ 0.00000000e+00, -1.18480515e+00, -9.31011902e-01,  6.98334915e-01,\n",
      "        7.21332580e-03,  1.05262554e+00,  2.20520181e-01, -1.35981051e+00,\n",
      "       -4.06433775e+00, -4.70807137e+00, -5.82812799e+00, -5.08334377e+00,\n",
      "       -6.14122183e+00, -7.91150284e+00, -1.03867667e+01, -9.98229394e+00,\n",
      "       -8.53523510e+00, -7.05283554e+00, -5.20708109e+00, -4.25873656e+00,\n",
      "       -4.00000000e+00, -4.27752750e+00, -4.25744681e+00, -3.92343320e+00,\n",
      "       -5.56813804e+00, -5.34542410e+00, -6.18686486e+00, -6.25110061e+00,\n",
      "       -8.26589089e+00, -9.10591334e+00, -7.70134800e+00, -1.07797154e+01,\n",
      "       -1.03644689e+01, -1.09303549e+01, -9.11829156e+00, -1.06386095e+01,\n",
      "       -7.95809354e+00, -9.82462863e+00, -9.00964127e+00, -1.22326307e+01,\n",
      "       -1.28000000e+01, -1.12819161e+01, -9.80286734e+00, -9.80028930e+00,\n",
      "       -8.60847583e+00, -9.70615967e+00, -9.99360795e+00, -8.70397962e+00,\n",
      "       -5.94043072e+00, -7.81798532e+00, -8.15445574e+00, -8.00838963e+00,\n",
      "       -7.94058003e+00, -7.45350962e+00, -7.89082391e+00, -6.30497388e+00,\n",
      "       -4.22131940e+00, -2.16401334e+00, -5.95807250e-01, -1.04437034e+00,\n",
      "       -1.00000000e+00, -1.64818286e+00, -2.24248244e+00, -1.25717870e+00,\n",
      "       -3.33108669e+00, -4.04645500e+00, -2.19412585e+00, -9.95182481e-01,\n",
      "       -3.59290304e+00, -3.51286649e+00, -5.23905110e+00, -5.75976406e+00,\n",
      "       -5.83580857e+00, -8.28364196e+00, -8.26187716e+00, -5.86639363e+00,\n",
      "       -7.16990416e+00, -8.02764192e+00, -7.74373795e+00, -7.85434810e+00,\n",
      "       -6.50000000e+00, -9.95319821e+00, -8.38000374e+00, -6.19309716e+00,\n",
      "       -4.50166678e+00, -6.50307239e+00, -4.34140564e+00, -6.41338523e+00,\n",
      "       -5.34307586e+00, -3.49519505e+00, -3.75874221e+00, -3.13408163e+00,\n",
      "       -4.29066118e+00, -1.54850355e+00,  5.00882956e-01,  2.43593724e+00,\n",
      "        1.42925358e+00, -1.03374357e+00, -2.90117672e+00, -9.42091866e-01,\n",
      "        0.00000000e+00]), array([ 0.00000000e+00, -3.18547142e+00, -2.34265185e+00, -5.61119771e+00,\n",
      "       -6.88481038e+00, -6.76436828e+00, -8.05408065e+00, -1.17213333e+01,\n",
      "       -1.25666653e+01, -9.45222543e+00, -9.50261973e+00, -7.17868375e+00,\n",
      "       -7.75234699e+00, -6.98874040e+00, -4.52118809e+00, -2.93936193e+00,\n",
      "       -4.51798644e+00, -3.92049465e+00, -5.14715388e+00, -3.24011944e+00,\n",
      "       -4.00000000e+00, -3.23226071e+00, -3.10945707e+00, -4.63385374e+00,\n",
      "       -6.07637076e+00, -7.97952725e+00, -3.81675176e+00, -6.16488592e+00,\n",
      "       -5.67836575e+00, -5.77941255e+00, -6.44008557e+00, -9.38839785e+00,\n",
      "       -7.59545122e+00, -6.48588167e+00, -9.37817827e+00, -1.09447933e+01,\n",
      "       -1.07147146e+01, -8.84840637e+00, -1.05653455e+01, -1.28962279e+01,\n",
      "       -1.28000000e+01, -1.25472863e+01, -1.22063804e+01, -1.23610196e+01,\n",
      "       -1.30348761e+01, -1.14425687e+01, -1.21312626e+01, -1.04457916e+01,\n",
      "       -9.65397251e+00, -8.72488029e+00, -9.25563707e+00, -8.14991017e+00,\n",
      "       -5.20098854e+00, -5.29405702e+00, -5.24774511e+00, -5.75526915e+00,\n",
      "       -5.82980361e+00, -4.40769121e+00, -3.41987758e+00, -1.48630568e+00,\n",
      "       -1.00000000e+00, -2.39770966e+00, -4.06483235e-03,  1.73705276e+00,\n",
      "        1.87486577e+00,  1.19085464e+00, -2.74450806e+00, -3.19769265e+00,\n",
      "       -3.74396417e+00, -1.38300776e+00, -1.67515067e+00, -5.08180212e+00,\n",
      "       -2.35611044e+00, -1.79435136e+00, -1.09411995e+00, -5.05641767e+00,\n",
      "       -4.93566534e+00, -5.78973818e+00, -7.10665602e+00, -5.98538735e+00,\n",
      "       -6.50000000e+00, -5.63114960e+00, -3.79466976e+00, -3.06904165e+00,\n",
      "       -1.26648165e+00, -2.60754432e+00, -1.70321844e+00, -4.40723992e+00,\n",
      "       -3.78079230e+00, -4.04405731e+00, -4.97837641e+00, -4.65639188e+00,\n",
      "       -4.77292499e+00, -7.41632826e+00, -3.05808807e+00, -3.85626634e+00,\n",
      "       -4.21207510e+00, -1.89284134e+00, -1.38897160e+00, -1.75379417e+00,\n",
      "        0.00000000e+00]), array([  0.        ,  -0.70992346,   0.33877158,  -0.92899227,\n",
      "        -0.6252226 ,  -2.03491184,  -3.81733704,  -4.46812056,\n",
      "        -5.35135242,  -5.6921775 ,  -6.22487027,  -7.51848493,\n",
      "        -6.23370996,  -5.4275517 ,  -2.8555625 ,  -3.71905585,\n",
      "        -5.1963878 ,  -7.00320349,  -6.12145524,  -4.17758661,\n",
      "        -4.        ,  -1.63802027,   0.3081954 ,  -2.99558582,\n",
      "        -3.30399141,  -4.72760534,  -4.53035505,  -3.61100191,\n",
      "        -4.19450773,  -4.52142118,  -5.41021787,  -7.20230621,\n",
      "        -7.4165314 ,  -6.87105789,  -6.51803338,  -8.09766403,\n",
      "        -7.62881157,  -8.36307531, -11.44085834, -11.46997544,\n",
      "       -12.8       , -12.74211428, -11.24467697,  -7.93833835,\n",
      "        -4.79186875,  -6.04007651,  -3.60681132,  -2.40653086,\n",
      "        -0.66904652,  -3.29023718,  -2.72432026,  -2.63419896,\n",
      "        -4.45362234,  -5.41644521,  -5.79884958,  -7.57959835,\n",
      "        -8.22017772,  -3.97783305,  -5.10125537,  -2.0385428 ,\n",
      "        -1.        ,  -1.08684659,  -0.96859419,  -1.08238512,\n",
      "        -3.31736771,  -1.63807058,  -2.77384987,  -1.20094414,\n",
      "        -1.92562729,  -1.8292332 ,  -0.24422029,   1.11399527,\n",
      "        -1.53350105,  -1.78853156,  -0.47088885,  -1.41485477,\n",
      "        -1.96255425,  -4.50487943,  -5.85443021,  -5.63431689,\n",
      "        -6.5       ,  -5.38071927,  -7.37809489,  -7.48692124,\n",
      "        -8.32015783,  -7.70904833,  -7.57104813,  -4.9674938 ,\n",
      "        -5.05062845,  -6.97058806,  -6.23662012,  -2.59750309,\n",
      "        -3.37462471,  -3.11047812,  -0.39033874,   0.9241461 ,\n",
      "        -0.29245816,   0.35025639,  -1.90611857,  -1.35165829,\n",
      "         0.        ]), array([  0.        ,   0.60905282,  -4.32794803,  -5.54768419,\n",
      "        -6.04319308,  -4.56441363,  -3.91630854,  -4.08496538,\n",
      "        -3.51052832,  -3.2243789 ,  -2.4370167 ,  -2.86792422,\n",
      "        -2.90084852,  -2.26850306,  -2.80710745,  -2.75468961,\n",
      "        -1.82488396,  -1.78351458,  -2.31694098,  -1.98482652,\n",
      "        -4.        ,  -1.88668938,  -3.06317256,  -1.90954726,\n",
      "        -4.05541308,  -4.11157933,  -5.03984482,  -4.5222184 ,\n",
      "        -8.88150753, -12.26195246,  -9.82985804, -10.87433482,\n",
      "       -13.01934269, -14.55337577, -14.85271806, -14.95846143,\n",
      "       -14.81727599, -13.43914522, -16.72126077, -13.38364993,\n",
      "       -12.8       , -11.5341488 , -11.91922379, -11.35824992,\n",
      "       -11.08341567, -13.74058111, -14.48642663, -13.14203928,\n",
      "        -8.52096523,  -7.69356005,  -6.91685407,  -5.36401054,\n",
      "        -2.99858805,  -4.94104734,  -3.70349454,  -3.00827744,\n",
      "        -2.12514007,  -1.14599848,   0.11708286,  -1.77214314,\n",
      "        -1.        ,  -2.89828579,  -0.8515096 ,  -1.32993711,\n",
      "        -2.10526668,  -2.08199931,  -4.30205117,  -6.66522252,\n",
      "        -5.81961496,  -6.76493231,  -6.74257512,  -3.10197078,\n",
      "        -5.27262471,  -6.13254528,  -5.18020875,  -7.33509906,\n",
      "        -5.60367085,  -5.37451419,  -6.63279551,  -5.90489983,\n",
      "        -6.5       ,  -5.91469618,  -4.03852832,  -5.22183294,\n",
      "        -5.52122612,  -7.10952098,  -6.53322022,  -5.1107137 ,\n",
      "        -4.74040225,  -6.55604788,  -5.70259628,  -4.29965072,\n",
      "        -6.66486971,  -5.15107631,  -2.79690233,   0.36420967,\n",
      "        -0.60998239,  -2.00386051,  -2.22827398,  -0.28039846,\n",
      "         0.        ])]\n"
     ]
    }
   ],
   "source": [
    "def nsimul(A, n = 1):\n",
    "    L1 = cholesky(A)\n",
    "    L = np.array([np.array(Li) for Li in L1])\n",
    "    m = Esp_Z2sachantZ1\n",
    "    \n",
    "    Liste_res = []\n",
    "    \n",
    "    for i in range(n):\n",
    "        Y = simul_Y()\n",
    "        res = np.add(m, L.dot(Y))\n",
    "        for i in range(6):\n",
    "            res = np.insert(res, observation_indexes[i], depth[i])\n",
    "        Liste_res.append(res)\n",
    "        \n",
    "    return Liste_res\n",
    "\n",
    "l = nsimul(C_Z2sachantZ1, 20)\n",
    "print(l)\n",
    "        "
   ]
  },
  {
   "cell_type": "code",
   "execution_count": 54,
   "metadata": {},
   "outputs": [],
   "source": [
    "def longueur(Z, Delta):\n",
    "    length = 0\n",
    "    for i in range(len(Z)-1):\n",
    "        length += math.sqrt(Delta**2+(Z[i+1]-Z[i])**2)\n",
    "    return length"
   ]
  },
  {
   "cell_type": "code",
   "execution_count": 55,
   "metadata": {},
   "outputs": [
    {
     "name": "stdout",
     "output_type": "stream",
     "text": [
      "Longueur simulation =  522.4808414136107\n",
      "Longueur espérance =  501.6468416918411\n",
      "Ecart type =  21.053047335525424\n",
      "Ecart relatif =  0.04153120879123938\n"
     ]
    }
   ],
   "source": [
    "def compare(nbsimul, Esp = Esp_Z2sachantZ1):\n",
    "    for i in range(6):\n",
    "        Esp = np.insert(Esp, observation_indexes[i], depth[i])\n",
    "        \n",
    "    LengthEsp = longueur(Esp, Delta)\n",
    "    l = nsimul(C_Z2sachantZ1, nbsimul)\n",
    "    EcartType = 0\n",
    "    Length = 0\n",
    "    for simul in l:\n",
    "        EcartType += (longueur(simul, Delta)-LengthEsp)**2\n",
    "        Length +=  longueur(simul, Delta)\n",
    "    Length = Length/nbsimul\n",
    "    EcartType = np.sqrt(EcartType/nbsimul)\n",
    "    EcartRelatif = (Length - LengthEsp)/LengthEsp\n",
    "    print(\"Longueur simulation = \", Length)\n",
    "    print(\"Longueur espérance = \", LengthEsp)\n",
    "    print(\"Ecart type = \", EcartType)\n",
    "    print(\"Ecart relatif = \", EcartRelatif)\n",
    "\n",
    "compare(100)"
   ]
  },
  {
   "cell_type": "markdown",
   "metadata": {},
   "source": [
    "On retrouve même pour des grands nombres de simulations (voir plus bas) un écart constant d'environ 20m entre la longueur obtenue par la moyenne des longueurs simulées et la longueur obtenue par calcul de l'espérance conditionnelle. Cela s'explique par le fait que du fait de la nature aléatoire de la simulation, le câble a tendance à rapidement monter puis descendre ce qui augmente \"artificiellement\" sa longueur, contrairement à la longueur obtenue par calcul de l'espérance conditionnelle qui modélise un câble plus lisse."
   ]
  },
  {
   "cell_type": "code",
   "execution_count": 56,
   "metadata": {},
   "outputs": [
    {
     "name": "stdout",
     "output_type": "stream",
     "text": [
      "Graphiquement, il semblerait que la moyenne des longueurs converge vers une valeur proche de M_100 = 522.744m\n"
     ]
    },
    {
     "data": {
      "image/png": "[encoded data removed]",
      "text/plain": [
       "<Figure size 432x288 with 1 Axes>"
      ]
     },
     "metadata": {
      "needs_background": "light"
     },
     "output_type": "display_data"
    }
   ],
   "source": [
    "l = nsimul(C_Z2sachantZ1, 100)\n",
    "Longueurs = []\n",
    "for simul in l:\n",
    "\tLongueurs.append(longueur(simul, Delta))\n",
    "    \n",
    "def Moyenne(Long, ax = None) :\n",
    "    NB = len(Long)\n",
    "    \n",
    "    NSimulations = [k for k in range(1, NB+1)]\n",
    "    Moyennes = [np.average(Long[:i]) for i in range(1, NB+1)]\n",
    "    if ax == None :\n",
    "        ax = plt.gca()\n",
    "    ax.set_xlabel(\"Nombre de simulations\")\n",
    "    ax.set_ylabel(\"Longueur moyenne\")\n",
    "    ax.scatter(NSimulations, Moyennes)\n",
    "    print(f\"Graphiquement, il semblerait que la moyenne des longueurs converge vers une valeur proche de M_{NB} = {np.round(Moyennes[-1], 3)}m\")\n",
    "    \n",
    "Moyenne(Longueurs)"
   ]
  },
  {
   "cell_type": "code",
   "execution_count": 57,
   "metadata": {},
   "outputs": [
    {
     "data": {
      "image/png": "[encoded data removed]",
      "text/plain": [
       "<Figure size 432x288 with 1 Axes>"
      ]
     },
     "metadata": {
      "needs_background": "light"
     },
     "output_type": "display_data"
    }
   ],
   "source": [
    "def histogramme(L, ax = None) :\n",
    "    N = len(L)\n",
    "    num_bins = min(int(np.sqrt(N)), 100)\n",
    "    if ax == None :\n",
    "        ax = plt.gca()\n",
    "    n, bins, patches = ax.hist(L, num_bins, facecolor='lightblue')\n",
    "    ax.set_xlabel(\"Longueur de câble simulée\")\n",
    "    ax.set_title(f\"Histogramme obtenu pour {N} simulations\")\n",
    "\n",
    "histogramme(Longueurs)"
   ]
  },
  {
   "cell_type": "markdown",
   "metadata": {},
   "source": [
    "#### 12\n",
    "\n",
    "On propose les deux implémentations suivantes : l'une par estimation avec l'allure de l'approximation gaussienne de la longueur, l'autre par le calcul à l'aide d'une formule qui permet d'estimer la moyenne de la longueur du câble."
   ]
  },
  {
   "cell_type": "code",
   "execution_count": 58,
   "metadata": {},
   "outputs": [
    {
     "name": "stdout",
     "output_type": "stream",
     "text": [
      "[516.581159349714, 529.3500307816403]\n"
     ]
    },
    {
     "data": {
      "image/png": "[encoded data removed]",
      "text/plain": [
       "<Figure size 432x288 with 1 Axes>"
      ]
     },
     "metadata": {
      "needs_background": "light"
     },
     "output_type": "display_data"
    }
   ],
   "source": [
    "from scipy.stats.kde import gaussian_kde\n",
    "from numpy import linspace\n",
    "\n",
    "\n",
    "def ApproxGaussienne(L):\n",
    "\n",
    "    kde = gaussian_kde(L)\n",
    "    interv_definition = linspace(min(L), max(L), 200)\n",
    "    y = kde(interv_definition)\n",
    "    fig = plt.figure()\n",
    "    plt.plot( interv_definition, y )\n",
    "    return interv_definition, y\n",
    "\n",
    "def IntervConfiance95_1(L):\n",
    "    x, y = ApproxGaussienne(L)\n",
    "    I_conf = []\n",
    "    to_remove = []\n",
    "    for i in range(len(y)):\n",
    "        if y[i] <= 0.025:\n",
    "            to_remove.append(i)\n",
    "            \n",
    "    in_interval = [x[i] for i in range(len(y)) if not (i in to_remove)]\n",
    "    \n",
    "    I_conf.append(min(in_interval))\n",
    "    I_conf.append(max(in_interval))\n",
    "\n",
    "    return I_conf\n",
    "\n",
    "I1 = IntervConfiance95_1(Longueurs)\n",
    "print(I1)"
   ]
  },
  {
   "cell_type": "code",
   "execution_count": 59,
   "metadata": {},
   "outputs": [
    {
     "name": "stdout",
     "output_type": "stream",
     "text": [
      "[522.1184764639718, 523.3687913260042]\n"
     ]
    }
   ],
   "source": [
    "def mean_and_var(L):\n",
    "    m = np.mean(L)\n",
    "    L_ecart = np.add(L, -m)\n",
    "    L_ecart = np.square(L_ecart)\n",
    "    var = np.mean(L_ecart)\n",
    "\n",
    "    return m, var\n",
    "\n",
    "def IntervConfiance95_2(L):\n",
    "    m, V = mean_and_var(L)\n",
    "    n = len(L)\n",
    "    sigma = np.sqrt(V)\n",
    "    I_conf = [m - 2*(sigma/np.sqrt(n)), m + 2*(sigma/np.sqrt(n))]\n",
    "\n",
    "    return I_conf\n",
    "\n",
    "I2 = IntervConfiance95_2(Longueurs)\n",
    "print(I2)"
   ]
  },
  {
   "cell_type": "markdown",
   "metadata": {},
   "source": [
    "Dans les deux cas, on vérifie effectivement que les simulations précédentes basées sur une approximation en loi normale sont quasiment toujours comprises dans ces intervalles (même si leur nature est différente)"
   ]
  },
  {
   "cell_type": "code",
   "execution_count": 61,
   "metadata": {},
   "outputs": [
    {
     "name": "stdout",
     "output_type": "stream",
     "text": [
      "0.2351917150609703\n"
     ]
    }
   ],
   "source": [
    "from scipy.integrate import quad\n",
    "\n",
    "def proba_depasse(L, lmax = 525):\n",
    "    m, V = mean_and_var(L)\n",
    "    sigma = np.sqrt(V)\n",
    "\n",
    "    def f(l):\n",
    "        return ( 1/(sigma * np.sqrt(2*np.pi)) ) * np.exp(-0.5 * ( (l - m)/sigma )**2 )\n",
    "    \n",
    "    P = quad(f, lmax, np.inf)[0]\n",
    "\n",
    "    return P\n",
    "\n",
    "P = proba_depasse(Longueurs)\n",
    "print(P)"
   ]
  },
  {
   "cell_type": "markdown",
   "metadata": {},
   "source": [
    "#### 14"
   ]
  },
  {
   "cell_type": "code",
   "execution_count": 62,
   "metadata": {},
   "outputs": [
    {
     "name": "stdout",
     "output_type": "stream",
     "text": [
      "Longueur simulation =  522.423586905385\n",
      "Longueur espérance =  501.6468416918411\n",
      "Ecart type =  20.966841860067504\n",
      "Ecart relatif =  0.04141707569307693\n",
      "Graphiquement, il semblerait que la moyenne des longueurs converge vers une valeur proche de M_1000 = 522.508m\n"
     ]
    },
    {
     "data": {
      "image/png": "[encoded data removed]",
      "text/plain": [
       "<Figure size 432x288 with 1 Axes>"
      ]
     },
     "metadata": {
      "needs_background": "light"
     },
     "output_type": "display_data"
    }
   ],
   "source": [
    "n = 1000\n",
    "\n",
    "compare(n)\n",
    "\n",
    "l = nsimul(C_Z2sachantZ1, n)\n",
    "\n",
    "Longueurs = []\n",
    "for simul in l:\n",
    "\tLongueurs.append(longueur(simul, Delta))\n",
    "    \n",
    "Moyenne(Longueurs)"
   ]
  },
  {
   "cell_type": "code",
   "execution_count": 63,
   "metadata": {},
   "outputs": [
    {
     "data": {
      "image/png": "[encoded data removed]",
      "text/plain": [
       "<Figure size 432x288 with 1 Axes>"
      ]
     },
     "metadata": {
      "needs_background": "light"
     },
     "output_type": "display_data"
    }
   ],
   "source": [
    "histogramme(Longueurs)"
   ]
  },
  {
   "cell_type": "code",
   "execution_count": 64,
   "metadata": {},
   "outputs": [
    {
     "name": "stdout",
     "output_type": "stream",
     "text": [
      "[517.0863091401741, 528.0950082168389]\n",
      "[522.3288701469833, 522.6878178273473]\n"
     ]
    },
    {
     "data": {
      "image/png": "[encoded data removed]",
      "text/plain": [
       "<Figure size 432x288 with 1 Axes>"
      ]
     },
     "metadata": {
      "needs_background": "light"
     },
     "output_type": "display_data"
    }
   ],
   "source": [
    "I1 = IntervConfiance95_1(Longueurs)\n",
    "print(I1)\n",
    "\n",
    "I2 = IntervConfiance95_2(Longueurs)\n",
    "print(I2)"
   ]
  },
  {
   "cell_type": "code",
   "execution_count": 65,
   "metadata": {},
   "outputs": [
    {
     "name": "stdout",
     "output_type": "stream",
     "text": [
      "0.18995956624384852\n"
     ]
    }
   ],
   "source": [
    "P = proba_depasse(Longueurs)\n",
    "print(P)"
   ]
  },
  {
   "cell_type": "code",
   "execution_count": 66,
   "metadata": {},
   "outputs": [
    {
     "name": "stdout",
     "output_type": "stream",
     "text": [
      "Longueur simulation =  522.4189904381877\n",
      "Longueur espérance =  501.6468416918411\n",
      "Ecart type =  20.972923072529888\n",
      "Ecart relatif =  0.04140791293789681\n",
      "Graphiquement, il semblerait que la moyenne des longueurs converge vers une valeur proche de M_10000 = 522.372m\n"
     ]
    },
    {
     "data": {
      "image/png": "[encoded data removed]",
      "text/plain": [
       "<Figure size 432x288 with 1 Axes>"
      ]
     },
     "metadata": {
      "needs_background": "light"
     },
     "output_type": "display_data"
    }
   ],
   "source": [
    "n = 10000\n",
    "\n",
    "compare(n)\n",
    "\n",
    "l = nsimul(C_Z2sachantZ1, n)\n",
    "\n",
    "Longueurs = []\n",
    "for simul in l:\n",
    "\tLongueurs.append(longueur(simul, Delta))\n",
    "    \n",
    "Moyenne(Longueurs)"
   ]
  },
  {
   "cell_type": "code",
   "execution_count": 67,
   "metadata": {},
   "outputs": [
    {
     "data": {
      "image/png": "[encoded data removed]",
      "text/plain": [
       "<Figure size 432x288 with 1 Axes>"
      ]
     },
     "metadata": {
      "needs_background": "light"
     },
     "output_type": "display_data"
    }
   ],
   "source": [
    "histogramme(Longueurs)"
   ]
  },
  {
   "cell_type": "code",
   "execution_count": 68,
   "metadata": {},
   "outputs": [
    {
     "name": "stdout",
     "output_type": "stream",
     "text": [
      "[517.0488846414004, 527.7356888332408]\n",
      "[522.3142082177199, 522.4301230846183]\n"
     ]
    },
    {
     "data": {
      "image/png": "[encoded data removed]",
      "text/plain": [
       "<Figure size 432x288 with 1 Axes>"
      ]
     },
     "metadata": {
      "needs_background": "light"
     },
     "output_type": "display_data"
    }
   ],
   "source": [
    "I1 = IntervConfiance95_1(Longueurs)\n",
    "print(I1)\n",
    "\n",
    "I2 = IntervConfiance95_2(Longueurs)\n",
    "print(I2)"
   ]
  },
  {
   "cell_type": "code",
   "execution_count": 69,
   "metadata": {},
   "outputs": [
    {
     "name": "stdout",
     "output_type": "stream",
     "text": [
      "0.18225224074267463\n"
     ]
    }
   ],
   "source": [
    "P = proba_depasse(Longueurs)\n",
    "print(P)"
   ]
  },
  {
   "cell_type": "code",
   "execution_count": 70,
   "metadata": {},
   "outputs": [
    {
     "name": "stdout",
     "output_type": "stream",
     "text": [
      "Longueur simulation =  522.419988479663\n",
      "Longueur espérance =  501.6468416918411\n",
      "Ecart type =  20.97455017746737\n",
      "Ecart relatif =  0.04140990246796511\n",
      "Graphiquement, il semblerait que la moyenne des longueurs converge vers une valeur proche de M_100000 = 522.447m\n"
     ]
    },
    {
     "data": {
      "image/png": "[encoded data removed]",
      "text/plain": [
       "<Figure size 432x288 with 1 Axes>"
      ]
     },
     "metadata": {
      "needs_background": "light"
     },
     "output_type": "display_data"
    }
   ],
   "source": [
    "n = 100000\n",
    "\n",
    "compare(n)\n",
    "\n",
    "l = nsimul(C_Z2sachantZ1, n)\n",
    "\n",
    "Longueurs = []\n",
    "for simul in l:\n",
    "\tLongueurs.append(longueur(simul, Delta))\n",
    "    \n",
    "Moyenne(Longueurs)"
   ]
  },
  {
   "cell_type": "code",
   "execution_count": 76,
   "metadata": {},
   "outputs": [
    {
     "data": {
      "image/png": "[encoded data removed]",
      "text/plain": [
       "<Figure size 432x288 with 1 Axes>"
      ]
     },
     "metadata": {
      "needs_background": "light"
     },
     "output_type": "display_data"
    }
   ],
   "source": [
    "histogramme(Longueurs)"
   ]
  },
  {
   "cell_type": "code",
   "execution_count": 77,
   "metadata": {},
   "outputs": [
    {
     "name": "stdout",
     "output_type": "stream",
     "text": [
      "[517.2402301119931, 527.7388878086973]\n",
      "[522.4287098266425, 522.4652196606764]\n"
     ]
    },
    {
     "data": {
      "image/png": "[encoded data removed]",
      "text/plain": [
       "<Figure size 432x288 with 1 Axes>"
      ]
     },
     "metadata": {
      "needs_background": "light"
     },
     "output_type": "display_data"
    }
   ],
   "source": [
    "I1 = IntervConfiance95_1(Longueurs)\n",
    "print(I1)\n",
    "\n",
    "I2 = IntervConfiance95_2(Longueurs)\n",
    "print(I2)"
   ]
  },
  {
   "cell_type": "code",
   "execution_count": 78,
   "metadata": {},
   "outputs": [
    {
     "name": "stdout",
     "output_type": "stream",
     "text": [
      "0.18820817689004565\n"
     ]
    }
   ],
   "source": [
    "P = proba_depasse(Longueurs)\n",
    "print(P)"
   ]
  },
  {
   "cell_type": "markdown",
   "metadata": {},
   "source": [
    "## Conclusion\n",
    "\n",
    "Comme nous pouvons le voir dans cette dernière question, on observe clairement que lorsque le nombre de simulation augmente, on converge vers une loi normale pour les simulations de longueur du câble en vertu du théorème central limite. \n",
    "\n",
    "Les approximations en loi normale sont donc naturellement plus précises et appropriées lorsque le nombre de simulations est élevé.\n",
    "\n",
    "Cependant, la nature aléatoire de ces simulations a tendance à donner une allure de câble \"tordu\" car les simulations ont tendance à donner pour deux positions successives une valeur haute et une valeur basse, ce qui augmente la longueur du câble. Pour remédier à cela, il faudrait augmenter la résolution de calcul, c'est-à-dire augmenter le paramètre $N$, ce qui impliquera également des temps de calcul augmentés (alors qu'ils sont déjà relativement longs pour des valeurs élevées de nombre de simulations). Malgré ce facteur, nous obtenons une estimation convenable de la longueur du câble en ne connaissant la profondeur qu'en six points et avec une méthode de simulation plutôt basique (pas de prise en compte du fait que la profondeur est toujours négative, faible résolution...)"
   ]
  },
  {
   "cell_type": "code",
   "execution_count": null,
   "metadata": {},
   "outputs": [],
   "source": []
  }
 ],
 "metadata": {
  "kernelspec": {
   "display_name": "Python 3",
   "language": "python",
   "name": "python3"
  },
  "language_info": {
   "codemirror_mode": {
    "name": "ipython",
    "version": 3
   },
   "file_extension": ".py",
   "mimetype": "text/x-python",
   "name": "python",
   "nbconvert_exporter": "python",
   "pygments_lexer": "ipython3",
   "version": "3.7.4"
  }
 },
 "nbformat": 4,
 "nbformat_minor": 2
}
