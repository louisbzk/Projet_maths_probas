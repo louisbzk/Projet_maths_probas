{
 "cells": [
  {
   "cell_type": "markdown",
   "metadata": {},
   "source": [
    "2# Projet numérique III : câble sous-marin"
   ]
  },
  {
   "cell_type": "markdown",
   "metadata": {},
   "source": [
    "#### Louis Blazejczak, Emmanuel Gardin"
   ]
  },
  {
   "cell_type": "markdown",
   "metadata": {},
   "source": [
    "## Questions théoriques"
   ]
  },
  {
   "cell_type": "markdown",
   "metadata": {},
   "source": [
    "#### 1.\n",
    "La loi forte des grands nombres nous autorise à estimer l'espérance conditionnelle par la moyenne empirique de simulations conditionnelles. \n",
    "\n",
    "#### 2.\n",
    "\n",
    "On considère le vecteur gaussien $Z_{1} = (Z(x_{j1}), Z(x_{j2}), ..., Z(x_{jn}))$ et le vecteur $Z_{2}$ des composantes de $Z$ qui ne sont pas connues. On réordonne $Z$ de manière à ce que les termes de $Z1$ soient les n derniers termes de Z.\n",
    "On note $C$ la matrice de covariance définie positive de $Z$.\n",
    "$C$ peut se décomposer en blocs :\n",
    "\\begin{align}\n",
    "C  = \n",
    "\\begin{pmatrix} \n",
    "C_{Z_{2}} & C_{Z_{2},Z_{1}} \\\\ C_{Z_{1},Z_{2}} & C_{Z_{1}}\n",
    "\\end{pmatrix}\n",
    "\\end{align}\n",
    "\n",
    "La loi conditionnelle du vecteur des composantes de  $Z$ correspondant aux points de discrétisation sans observation connaissant les valeurs prises par les composantes aux sites d'observation s'écrit alors :\n",
    "\n",
    "\n",
    "$f_{Z_{2}|Z_{1} = z_{1}}(z_{2}) = \\frac{1}{(2 \\pi)^{n/2} \\sqrt{det(CS_{Z_{2}})}}exp\\left(- \\frac{1}{2}\\left(z_{2}- \\Psi(z_1)\\right)^{t}CS_{Z_{2}}^{-1}\\left(z_{2}- \\Psi(z_1)\\right)\\right)$\n",
    "\n",
    "où $CS_{Z_{2}}$ est le complément de Schur du bloc $C_{Z_{2}}$ : $CS_{Z_{2}} = C_{Z_{2}} - C_{Z_{2},Z_{1}}C_{Z_{1}}^{-1}C_{Z_{1},Z_{2}}$ et $\\Psi$ est l'espérance conditionnelle du vecteur des sites sans observation $Z_{2}$ sachant $Z_{1}$\n",
    "\n",
    "#### 3.\n",
    "\n",
    "Soit $Y = (Y_{1}, ..., Y_{p})$ un vecteur de composantes gaussiennes indépendantes, toutes d'espérance nulle et de variance 1. $Z = m + RY$ où $R$ est une matrice $p \\times p$ et $m$ est un vecteur de taille $p$.\n",
    "Alors $Z$ est gaussien, comme combinaison linéaire de variables gaussiennes, $E(Z) = E(m + RY) = m$ et $V(Z) = E((RY)^{2}) = RI_{p}R^{T} = RR^{T}$. On note $C = RR^{t}$.\n",
    "\n",
    "La loi $f_{Z}$ de $Z$ est alors :\n",
    "\n",
    "\\begin{equation}\n",
    "f_{Z}(z) = \\frac{1}{(2 \\pi)^{p/2} \\sqrt{det(C)}}exp(- \\frac{1}{2}(z-m)^{t}C^{-1}(x-m))\n",
    "\\end{equation}\n",
    "\n",
    "#### 4.\n",
    "\n",
    "On souhaite simuler un vecteur gaussien $Z = (Z(x_{0}), ..., Z(x_{p}))$ à valeurs dans ${\\rm I\\!R}^p$, d'espérance $m$ et de matrice de covariance $C$ définie positive données. D'après la question précédente, on peut simuler un vecteur gaussien quelconque à partir d'un vecteur gaussien $Y$ de composantes indépendantes, d'espérances nulles et de variance 1 si on peut trouver une matrice $R$ telle que $C = R \\times R^{T}$, car dans ce cas $Z$ a la même loi que $m + R \\times Y$. \n",
    "\n",
    "Or, $C$ étant symétrique définie positive, il existe une (unique) matrice $R$ vérifiant cela (en effet, le théorème spectral permet de diagonaliser $C = P \\Delta P^{T}$ en une matrice diagonale $\\Delta$ à coefficients diagonaux strictement positifs, on pose alors $R = P \\times \\sqrt{\\Delta}$ où $\\sqrt{\\Delta}$ est la matrice diagonale dont les coefficients sont les racines carrées des coefficients de $\\Delta$). Il est donc possible de simuler $Z$ à partir de la simulation de $Y$.\n",
    "\n"
   ]
  },
  {
   "cell_type": "markdown",
   "metadata": {},
   "source": [
    "## Implémentation"
   ]
  },
  {
   "cell_type": "code",
   "execution_count": 22,
   "metadata": {},
   "outputs": [],
   "source": [
    "# Chargement des dépendances\n",
    "\n",
    "import numpy as np\n",
    "import math\n",
    "import matplotlib.pyplot as plt\n",
    "\n",
    "# Discrétisation\n",
    "\n",
    "A = 0\n",
    "B = 500\n",
    "N = 101\n",
    "Delta = (B-A)/(N-1)\n",
    "discretization_indexes = np.arange(N)\n",
    "discretization = discretization_indexes*Delta\n",
    "\n",
    "#Paramètres du modèle\n",
    "\n",
    "mu = -5\n",
    "a = 50\n",
    "sigma2 = 12\n",
    "\n",
    "# Données\n",
    "\n",
    "observation_indexes = [0, 20, 40, 60, 80, 100]\n",
    "depth = np.array([0, -4, -12.8, -1, -6.5, 0])\n",
    "\n",
    "# Indices des composantes correspondant aux observations et aux composantes non observées\n",
    "\n",
    "unknown_indexes = list(set(discretization_indexes)-set(observation_indexes))"
   ]
  },
  {
   "cell_type": "code",
   "execution_count": 8,
   "metadata": {},
   "outputs": [],
   "source": [
    "#1\n",
    "def cov(distance, a, sigma2):\n",
    "    covariance = np.zeros((101, 101))\n",
    "    for i in range(0, len(covariance)):\n",
    "        for j in range(0, len(covariance[0])):\n",
    "            covariance[i][j] = sigma2*math.exp(-abs(distance[i][j])/a)\n",
    "    return covariance"
   ]
  },
  {
   "cell_type": "code",
   "execution_count": 9,
   "metadata": {},
   "outputs": [],
   "source": [
    "#2\n",
    "distance = np.zeros((101, 101))\n",
    "for i in range(0, 101):\n",
    "    for j in range(0, 101):\n",
    "        distance[i][j] = abs((i-j)*Delta)"
   ]
  },
  {
   "cell_type": "code",
   "execution_count": 10,
   "metadata": {},
   "outputs": [
    {
     "name": "stdout",
     "output_type": "stream",
     "text": [
      "[[1.20000000e+01 1.08580490e+01 9.82476904e+00 ... 6.65419193e-04\n",
      "  6.02096185e-04 5.44799157e-04]\n",
      " [1.08580490e+01 1.20000000e+01 1.08580490e+01 ... 7.35401941e-04\n",
      "  6.65419193e-04 6.02096185e-04]\n",
      " [9.82476904e+00 1.08580490e+01 1.20000000e+01 ... 8.12744838e-04\n",
      "  7.35401941e-04 6.65419193e-04]\n",
      " ...\n",
      " [6.65419193e-04 7.35401941e-04 8.12744838e-04 ... 1.20000000e+01\n",
      "  1.08580490e+01 9.82476904e+00]\n",
      " [6.02096185e-04 6.65419193e-04 7.35401941e-04 ... 1.08580490e+01\n",
      "  1.20000000e+01 1.08580490e+01]\n",
      " [5.44799157e-04 6.02096185e-04 6.65419193e-04 ... 9.82476904e+00\n",
      "  1.08580490e+01 1.20000000e+01]]\n"
     ]
    }
   ],
   "source": [
    "#3\n",
    "C = cov(distance, a, sigma2)\n",
    "print(C)"
   ]
  },
  {
   "cell_type": "code",
   "execution_count": 12,
   "metadata": {},
   "outputs": [],
   "source": [
    "#4\n",
    "C_Z1, distanceZ1 = np.zeros((len(observation_indexes),len(observation_indexes))), np.zeros((len(observation_indexes),len(observation_indexes)))\n",
    "C_Z2, distanceZ2 = np.zeros((len(unknown_indexes),len(unknown_indexes))), np.zeros((len(unknown_indexes),len(unknown_indexes)))\n",
    "C_Z1_Z2, distanceZ1_Z2 = np.zeros((len(observation_indexes),len(unknown_indexes))), np.zeros((len(observation_indexes),len(unknown_indexes)))\n",
    "\n",
    "for i in range(len(observation_indexes)):\n",
    "    for j in range(len(observation_indexes)):\n",
    "        C_Z1[i][j] = C[observation_indexes[i]][observation_indexes[j]]\n",
    "\n",
    "for i in range(len(observation_indexes)):\n",
    "    for j in range(len(unknown_indexes)):\n",
    "        C_Z1_Z2[i][j] = C[observation_indexes[i]][unknown_indexes[j]]\n",
    "        \n",
    "for i in range(len(unknown_indexes)):\n",
    "    for j in range(len(unknown_indexes)):\n",
    "        C_Z2[i][j] = C[unknown_indexes[i]][unknown_indexes[j]]\n",
    "\n"
   ]
  },
  {
   "cell_type": "code",
   "execution_count": 27,
   "metadata": {},
   "outputs": [
    {
     "name": "stdout",
     "output_type": "stream",
     "text": [
      "0 : 0.0\n",
      "1 : -9.533116651550738\n",
      "2 : -9.111602258183323\n",
      "3 : -8.73123816217305\n",
      "4 : -8.388217551802256\n",
      "5 : -8.07910736150915\n",
      "6 : -7.8008139126137515\n",
      "7 : -7.5505519507418555\n",
      "8 : -7.325816770063098\n",
      "9 : -7.1243591453531465\n",
      "10 : -6.944162820991656\n",
      "11 : -6.78342433159834\n",
      "12 : -6.640534952345279\n",
      "13 : -6.514064598298129\n",
      "14 : -6.4027475116454315\n",
      "15 : -6.305469593569002\n",
      "16 : -6.221257253968496\n",
      "17 : -6.149267667444443\n",
      "18 : -6.0887803380183785\n",
      "19 : -6.03918988816691\n",
      "20 : -4.0\n",
      "21 : -5.685679067215545\n",
      "22 : -5.378220641000476\n",
      "23 : -5.074547574084887\n",
      "24 : -4.771620604347046\n",
      "25 : -4.466407936856543\n",
      "26 : -4.155854900651614\n",
      "27 : -3.8368533765654416\n",
      "28 : -3.5062106901248544\n",
      "29 : -3.1606176581911107\n",
      "30 : -2.796615469542789\n",
      "31 : -2.4105610679305363\n",
      "32 : -1.9985906911456506\n",
      "33 : -1.5565812011892435\n",
      "34 : -1.0801088185213112\n",
      "35 : -0.5644048473882171\n",
      "36 : -0.004307949112767773\n",
      "37 : 0.6057875143180462\n",
      "38 : 1.2719875833624048\n",
      "39 : 2.0009598122288823\n",
      "40 : -12.8\n",
      "41 : 1.9181057135684059\n",
      "42 : 1.1054501543738349\n",
      "43 : 0.35389999243690085\n",
      "44 : -0.3440665388677955\n",
      "45 : -0.9954349231802002\n",
      "46 : -1.6067242742229872\n",
      "47 : -2.184052581282842\n",
      "48 : -2.7331979401035627\n",
      "49 : -3.2596563820103555\n",
      "50 : -3.768696880038618\n",
      "51 : -4.265414082587035\n",
      "52 : -4.754779302371131\n",
      "53 : -5.241690270991835\n",
      "54 : -5.73102015707953\n",
      "55 : -6.227666338603636\n",
      "56 : -6.736599417477395\n",
      "57 : -7.262912967012488\n",
      "58 : -7.811874510112756\n",
      "59 : -8.388978238413893\n",
      "60 : -1.0\n",
      "61 : -8.562971845600893\n",
      "62 : -8.161603110988755\n",
      "63 : -7.791876762962895\n",
      "64 : -7.4500924559629516\n",
      "65 : -7.132829497766799\n",
      "66 : -6.836912614053049\n",
      "67 : -6.559380169188392\n",
      "68 : -6.297454525182746\n",
      "69 : -6.048514242154656\n",
      "70 : -5.810067842079857\n",
      "71 : -5.579728873241797\n",
      "72 : -5.355192025820744\n",
      "73 : -5.134210059578268\n",
      "74 : -4.91457131272161\n",
      "75 : -4.6940775668490975\n",
      "76 : -4.470522046441529\n",
      "77 : -4.241667332711061\n",
      "78 : -4.005222970761954\n",
      "79 : -3.7588225459481275\n",
      "80 : -6.5\n",
      "81 : -3.7864405788349527\n",
      "82 : -4.060735447091478\n",
      "83 : -4.325629840004776\n",
      "84 : -4.583774909693204\n",
      "85 : -4.837754258779758\n",
      "86 : -5.090109797955502\n",
      "87 : -5.343367186276134\n",
      "88 : -5.600061108806715\n",
      "89 : -5.862760644601737\n",
      "90 : -6.134094978911799\n",
      "91 : -6.416779716953297\n",
      "92 : -6.7136440625981715\n",
      "93 : -7.027659133997189\n",
      "94 : -7.36196769952902\n",
      "95 : -7.719915631682497\n",
      "96 : -8.105085393673068\n",
      "97 : -8.521331893938761\n",
      "98 : -8.972821067359515\n",
      "99 : -9.464071569333676\n",
      "100 : 0.0\n"
     ]
    }
   ],
   "source": [
    "mZ1 = [mu for i in range(len(observation_indexes))]\n",
    "mZ2 = [mu for i  in range(len(unknown_indexes))]\n",
    "Z1 = depth\n",
    "C_Z2_Z1 = C_Z1_Z2.T\n",
    "Esp_Z2sachantZ1 = mZ2 - (np.dot(C_Z2_Z1,np.linalg.inv(C_Z1)).dot(Z1-mZ1))\n",
    "\n",
    "Esp_Z_Z1 = {}\n",
    "index_Z1 = 0\n",
    "index_Z2 = 0\n",
    "for i in range(101):\n",
    "    if i in observation_indexes:\n",
    "        Esp_Z_Z1[f\"{i}\"] = depth[index_Z1]\n",
    "        index_Z1 += 1\n",
    "    else:\n",
    "        Esp_Z_Z1[f\"{i}\"] = Esp_Z2sachantZ1[index_Z2]\n",
    "        index_Z2 += 1\n",
    "        \n",
    "for index in Esp_Z_Z1:\n",
    "    print(f\"{index} :\", Esp_Z_Z1[index])"
   ]
  },
  {
   "cell_type": "markdown",
   "metadata": {},
   "source": [
    "#### 6\n",
    "\n",
    "La matrice de covariance conditionnelle cherchée est : \n",
    "\\begin{equation}\n",
    "C_{Z_{2} | Z_{1}} = C_{Z_{2}} - C_{Z_{2}, Z_{1}} \\times C_{Z_{1}}^{-1} \\times C_{Z_{1}, Z_{2}}\n",
    "\\end{equation}\n",
    "\n",
    "D'où l'implémentation suivante."
   ]
  },
  {
   "cell_type": "code",
   "execution_count": 28,
   "metadata": {},
   "outputs": [
    {
     "data": {
      "text/plain": [
       "[<matplotlib.lines.Line2D at 0x21b88c0e888>]"
      ]
     },
     "execution_count": 28,
     "metadata": {},
     "output_type": "execute_result"
    },
    {
     "data": {
      "image/png": "[encoded data removed]",
      "text/plain": [
       "<Figure size 432x288 with 1 Axes>"
      ]
     },
     "metadata": {
      "needs_background": "light"
     },
     "output_type": "display_data"
    }
   ],
   "source": [
    "def mat_cov_condi():\n",
    "    M = C_Z2 - ( (C_Z2_Z1.dot(np.linalg.inv(C_Z1))).dot(C_Z1_Z2) )\n",
    "    return M\n",
    "\n",
    "C_Z2sachantZ1 = mat_cov_condi()\n",
    "\n",
    "position = [i*Delta for i in unknown_indexes]\n",
    "variance = [C_Z2sachantZ1[i][i] for i in range(95)]\n",
    "\n",
    "plt.plot(position, variance)"
   ]
  },
  {
   "cell_type": "markdown",
   "metadata": {},
   "source": [
    "Comme ici, $\\Delta = 5$ (m), on obtient logiquement une variance nulle aux points d'observation situés tous les 100m. De la même façon, il paraît logique que la variance augmente lorsqu'on s'éloigne de ces points puisque la position est moins connue loin des sites d'observation."
   ]
  },
  {
   "cell_type": "code",
   "execution_count": 30,
   "metadata": {},
   "outputs": [],
   "source": [
    "def longueur(Z, Delta):\n",
    "    length = 0\n",
    "    for i in range(len(Z)-1):\n",
    "        length += math.sqrt(Delta^2+(Z[i+1]-Z[i])^2)\n",
    "    return length"
   ]
  },
  {
   "cell_type": "code",
   "execution_count": null,
   "metadata": {},
   "outputs": [],
   "source": []
  }
 ],
 "metadata": {
  "kernelspec": {
   "display_name": "Python 3",
   "language": "python",
   "name": "python3"
  },
  "language_info": {
   "codemirror_mode": {
    "name": "ipython",
    "version": 3
   },
   "file_extension": ".py",
   "mimetype": "text/x-python",
   "name": "python",
   "nbconvert_exporter": "python",
   "pygments_lexer": "ipython3",
   "version": "3.7.4"
  }
 },
 "nbformat": 4,
 "nbformat_minor": 2
}
